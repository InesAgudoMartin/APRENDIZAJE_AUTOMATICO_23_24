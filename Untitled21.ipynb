{
  "nbformat": 4,
  "nbformat_minor": 0,
  "metadata": {
    "colab": {
      "provenance": [],
      "authorship_tag": "ABX9TyP8mInAE/eaJ1cNaOAJixYM",
      "include_colab_link": true
    },
    "kernelspec": {
      "name": "python3",
      "display_name": "Python 3"
    },
    "language_info": {
      "name": "python"
    }
  },
  "cells": [
    {
      "cell_type": "markdown",
      "metadata": {
        "id": "view-in-github",
        "colab_type": "text"
      },
      "source": [
        "<a href=\"https://colab.research.google.com/github/InesAgudoMartin/APRENDIZAJE_AUTOMATICO_23_24/blob/main/Untitled21.ipynb\" target=\"_parent\"><img src=\"https://colab.research.google.com/assets/colab-badge.svg\" alt=\"Open In Colab\"/></a>"
      ]
    },
    {
      "cell_type": "markdown",
      "source": [
        "###EXPECTATION VALUES"
      ],
      "metadata": {
        "id": "0OkydC_rEjHS"
      }
    },
    {
      "cell_type": "markdown",
      "source": [
        "### Objective\n",
        "In this lab we are going to play around with expectation values, and the Estimator Primitive in Qiskit.\n",
        "\n",
        "0. Building Measurement Operators\n",
        "1. Using the Estimator Primitive\n",
        "2. Two qubit system expectation values\n",
        "\n",
        "El objetivo es crear un estado cuántico ∣𝜓⟩  con 4 posibles resultados y un operador que mida cada qubit en una base diferente."
      ],
      "metadata": {
        "id": "EgWD1n1MEVzB"
      }
    },
    {
      "cell_type": "markdown",
      "source": [
        "# Building them in qiskit\n",
        "\n",
        "These operators are not only useful for measurements, they can represent operations in our circuit.\n",
        "\n",
        "In qiskit we can build these operators in many different forms:\n",
        "\n",
        "#### For example, directly defining the operator matrices"
      ],
      "metadata": {
        "id": "OusDY_WZEcHw"
      }
    },
    {
      "cell_type": "markdown",
      "source": [
        "###Definiendo operadores directamente"
      ],
      "metadata": {
        "id": "1-0e5rJ7JOJg"
      }
    },
    {
      "cell_type": "code",
      "execution_count": null,
      "metadata": {
        "id": "bxr0DZvhDlgG"
      },
      "outputs": [],
      "source": [
        "#importación del módulo operator (para crear operadores cuanticos a partir de matrices)\n",
        "from qiskit.quantum_info.operators import Operator\n",
        "\n",
        "\n",
        "# By directly defining their matrices:\n",
        "#definimos puerta pauli X\n",
        "X = Operator([[0, 1],#fila 1\n",
        "              [1, 0]]) #fila 2\n",
        "\n",
        "X #mostramos operador"
      ]
    },
    {
      "cell_type": "markdown",
      "source": [
        "#### By creating them out of Pauli gates\n",
        "CREANDO OPERADORES A PARTIR DE PUERTAS PAULI"
      ],
      "metadata": {
        "id": "-MMuiJr7EzLQ"
      }
    },
    {
      "cell_type": "code",
      "source": [
        "#importamos la clase pauli para representar X,Y,Z y crear operadores cuanticos a partir de ellas\n",
        "from qiskit.quantum_info.operators import Pauli\n",
        "\n",
        "#convertimos la matriz Z de pauli en un operador cuantico\n",
        "Z = Operator(Pauli('Z'))\n",
        "\n",
        "#visualizamos la presentación de pauli Z\n",
        "Z"
      ],
      "metadata": {
        "id": "8fVy9Q8gEz6V"
      },
      "execution_count": null,
      "outputs": []
    },
    {
      "cell_type": "markdown",
      "source": [
        "#### By converting a circuit to an operator\n",
        "CONVIRTIENDO UN CIRCUITO A UN OPERADOR"
      ],
      "metadata": {
        "id": "IFB24rlTE5h4"
      }
    },
    {
      "cell_type": "code",
      "source": [
        "#importamos quantumcircuit para crear y manipular circuitos\n",
        "from qiskit import QuantumCircuit\n",
        "\n",
        "# Create the Q Circuit representing the Y Operator\n",
        "#circuito cuantico con 1 solo qubit\n",
        "qc = QuantumCircuit(1)\n",
        "\n",
        "#aplica la puerta Y al qubit 0 del circuito\n",
        "qc.y(0)\n",
        "\n",
        "#dibujamos circuito\n",
        "display(qc.draw('mpl'))\n",
        "\n",
        "#conversion de circuito a un operador: convierte circuito qc a un operador Y\n",
        "Y = Operator(qc)\n",
        "#mostramos operador\n",
        "Y"
      ],
      "metadata": {
        "id": "sdKoWg4ZE6QJ"
      },
      "execution_count": null,
      "outputs": []
    },
    {
      "cell_type": "markdown",
      "source": [
        "# 1. Using the Estimator primitive\n",
        "\n",
        "Up until now we have been using the Qiskit Sampler in order to get a distribution of the values returned by our circuits.\n",
        "\n",
        "Now we have a slightly different objective, we no longer want to get a distribution, but to calculate the expectation values after measuring our circuits/quantum states in different basis.\n",
        "\n",
        "To do so we use the Estimator Primitive.\n",
        "Es una herramienta en Qiskit diseñada para facilitar el cálculo de estos valores esperados.\n",
        "Proporciona una interfaz simplificada para enviar circuitos cuánticos al hardware (o simulador) y obtener los valores esperados de los observables después de la medición."
      ],
      "metadata": {
        "id": "qRBYvJ6rE9EB"
      }
    },
    {
      "cell_type": "code",
      "source": [
        "#conecta al servicio de qiskit\n",
        "from qiskit_ibm_runtime import QiskitRuntimeService, Session, Estimator\n",
        "\n",
        "# First of all, let's connect to a quantum computer\n",
        "service = QiskitRuntimeService()\n",
        "#selecciona el simulador cuantico\n",
        "backend_simulator = service.get_backend('ibmq_qasm_simulator')"
      ],
      "metadata": {
        "id": "M8r21LM5E_wV"
      },
      "execution_count": null,
      "outputs": []
    },
    {
      "cell_type": "code",
      "source": [
        "# Let's create a single qubit circuit that represents the |+> state\n",
        "#creacion circuito cuantico con un qubit\n",
        "qc = QuantumCircuit(1)\n",
        "#aplica puerta hadamard al estado 0, lo convierte en el estado +>\n",
        "qc.h(0)"
      ],
      "metadata": {
        "id": "RwMLiQXfFKMj"
      },
      "execution_count": null,
      "outputs": []
    },
    {
      "cell_type": "markdown",
      "source": [
        "###MEDICION EN DIFERENTES BASES\n",
        "Now, let's run our circuit twice, once measuring in the X basis, and another one measuring in the Z basis.\n",
        "\n",
        "If this works, we should get a 1 value in the X basis with a 0 to none variance, and a 0 value (remember, the eigenvalues are 1 and -1) when measuring in the Z basis."
      ],
      "metadata": {
        "id": "WdLkCKieFM6I"
      }
    },
    {
      "cell_type": "code",
      "source": [
        "# Prepare our X observable basis\n",
        "#Vamos a medir el valor esperado en la base X\n",
        "observable = Operator(Pauli('X'))\n",
        "\n",
        "# Get the expectation value using the Estimator Primitive\n",
        "# Crea sesión\n",
        "#Instancia un estimador utilizando la sesión creada.\n",
        "# Ejecuta el estimador sobre el circuito cuántico qc calcula el valor esperado del observable X.\n",
        "with Session(service=service, backend=backend_simulator) as session:    # Create a session in our quantum computer\n",
        "    estimator = Estimator(session=session)                              # Create a estimator runtime using our session\n",
        "    job = estimator.run(circuits=qc, observables=observable)            # Run the estimator primitive\n",
        "\n",
        "# Display our results\n",
        "#Imprime los resultados del trabajo del estimador. Los resultados incluyen el valor esperado calculado para el observable X después de ejecutar el circuito.\n",
        "print(job.result())"
      ],
      "metadata": {
        "id": "XQ56YkTOFQQr"
      },
      "execution_count": null,
      "outputs": []
    },
    {
      "cell_type": "markdown",
      "source": [
        "###HAZ LO MISMO CON Z BASIS\n"
      ],
      "metadata": {
        "id": "jSfB3alyQ0AV"
      }
    },
    {
      "cell_type": "code",
      "source": [
        "# Prepare our X observable basis\n",
        "observable = (Pauli('Z'))\n",
        "\n",
        "# Get the expectation value using the Estimator Primitive\n",
        "with Session(service=service, backend=backend_simulator) as session:    # Create a session in our quantum computer\n",
        "    estimator = Estimator(session=session)                              # Create a estimator runtime using our session\n",
        "    job = estimator.run(circuits=qc, observables=observable)            # Run the estimator primitive\n",
        "\n",
        "\n",
        "print(job.result())"
      ],
      "metadata": {
        "id": "8npznyg2Q2BZ"
      },
      "execution_count": null,
      "outputs": []
    },
    {
      "cell_type": "markdown",
      "source": [
        "TWO QUBIT EXPECTATION VALUES\n",
        "Again, we calculate expectation values the following way:\n",
        "\n",
        "$$𝐸=\\langle\\psi|𝑂|\\psi \\rangle.$$\n",
        "\n",
        "We have been using single qubit systems so far, but this does not mean we are constrained to it; we could easily use systems with any number of possible states by joining many qubits together.\n",
        "\n",
        "In this case we just need to have a measurement operator that has as many eigenstates as the quantum state requires.\n",
        "\n",
        "In the following example, we are going to create a quantum state $|\\psi \\rangle$ `psi` with 4 possible outcomes, by creating a 2 qubit circuit, we will later create an observable $𝑂$ `operator` that measures each qubit in a different basis."
      ],
      "metadata": {
        "id": "xyT8swHVRljK"
      }
    },
    {
      "cell_type": "markdown",
      "source": [
        "Valor Esperado\n",
        "𝐸=⟨𝜓∣𝑂∣𝜓⟩\n",
        "El valor esperado 𝐸 de un operador 𝑂 para un estado cuántico ∣𝜓⟩ se define como:𝐸=⟨𝜓∣𝑂∣𝜓⟩\n",
        "\n",
        "FORMULA\n",
        "\n",
        "Estado ∣𝜓⟩ Representa el estado cuántico del sistema.Es un vector en el espacio de Hilbert.\n",
        "\n",
        "Operador 𝑂\n",
        "Es un operador hermítico que corresponde a la observable que queremos medir.\n",
        "Tiene tantos eigenestados como requiere el estado cuántico del sistema.\n",
        "Bra ⟨𝜓∣ Es el Conjugado transpuesto del ket ∣𝜓⟩.\n",
        "Producto Interno ⟨𝜓∣𝑂∣𝜓⟩\n",
        "Este producto interno da el valor esperado de la observable 𝑂 en el estado\n",
        "∣𝜓⟩.\n",
        "\n",
        "\n",
        "###Ejemplo con un Sistema de Dos Qubits\n",
        "Vamos a aplicar este concepto en un sistema de dos qubits, creando un estado cuántico ∣𝜓⟩ con 4 posibles resultados y un operador 𝑂 que mide cada qubit en una base diferente."
      ],
      "metadata": {
        "id": "5jTzpw2NSM96"
      }
    },
    {
      "cell_type": "code",
      "source": [
        "# Prepare the quantum state to |0+>\n",
        "#creamos estado cuantico |0+> que es un estado de 2 qubits donde el 1 ests en estado 0 y el 2 esta en una superposicion de 0> y 1>\n",
        "qc = QuantumCircuit(2) #circuito cuantico con 2 bits\n",
        "qc.z(0) #primer qubit en estado 0 (ya esta en 0 no hay que aplicar ninguna operacion), aplicar la puerta Z es como nada porque Z|0> =0\n",
        "qc.h(1) #para poner el 2 qubit en estado +> aplicamos hadamard que convierte 0> a +> (0 es como esta inicializado por defecto)\n",
        "\n",
        "# Convert circuit to a statevector (circuito->vector estado) para trabajar con el circuito cuantico que genera\n",
        "from qiskit.quantum_info import Statevector #importamos la clase statevector\n",
        "#convertir circuito a un vector de estado\n",
        "#Statevector.from_instruction(qc) toma el circuito qc y calcula el vector de estado resultante después de aplicar todas las operaciones del circuito.\n",
        "# se almacena en la variable psi, que ahora es un objeto Statevector que representa el estado cuántico del sistema.\n",
        "psi = Statevector(qc)\n",
        "psi"
      ],
      "metadata": {
        "id": "EU3j3kJvRnWR"
      },
      "execution_count": null,
      "outputs": []
    },
    {
      "cell_type": "markdown",
      "source": [
        "##Crear el Operador para Medir en las Bases Z y X\n",
        "En esta parte, queremos crear un operador que mida los qubits en diferentes bases. En este caso, el primer qubit será medido en la base Z y el segundo qubit en la base X. Usamos las matrices de Pauli para definir estos operadores de medición."
      ],
      "metadata": {
        "id": "JkmVafEpcBu7"
      }
    },
    {
      "cell_type": "code",
      "source": [
        "# Create the operator to measure the first qubit in the Z basis, and the second in the X basis\n",
        "operator = (Pauli('ZX')) #indica que queremos medir el 1º qubit en la base Z y el 2º en la base X\n",
        "operator"
      ],
      "metadata": {
        "id": "ZU6SV8c3ZNRi"
      },
      "execution_count": null,
      "outputs": []
    },
    {
      "cell_type": "markdown",
      "source": [
        "As this is a simple system, thus we can calculate the expectation value in our machine using pyhton.\n",
        "\n",
        "This quickly becomes impossible as we add up qubits."
      ],
      "metadata": {
        "id": "-gC-KG7iZPlC"
      }
    },
    {
      "cell_type": "markdown",
      "source": [
        "###CALCULAR VALOR ESPERADO MATEMÁTICAMENTE"
      ],
      "metadata": {
        "id": "c27vRncLc4fw"
      }
    },
    {
      "cell_type": "code",
      "source": [
        "# easy expectation value, use for small systems only!\n",
        "#calcula el valor esperado del operador Pauli operator para el vector de estado psi.\n",
        "#psi es el estado cuántico obtenido del circuito, y operator mide el primer qubit en la base Z y el segundo en la base X.\n",
        "print('Math:', (psi.expectation_value(operator)).real)"
      ],
      "metadata": {
        "id": "rW2lV_wQZQLo"
      },
      "execution_count": null,
      "outputs": []
    },
    {
      "cell_type": "markdown",
      "source": [
        "Now lets run it\n",
        "###EJECUTAR ESTIMADOR PRIMITIVO"
      ],
      "metadata": {
        "id": "AGHRFgI_ZT7o"
      }
    },
    {
      "cell_type": "code",
      "source": [
        "\n",
        "# Prepare our X observable basis\n",
        "observable = (Pauli('ZX')) #mide 1 qubit en base Z y el otro en base X\n",
        "\n",
        "# Get the expectation value using the Estimator Primitive\n",
        "with Session(service=service, backend=backend_simulator) as session:    # Create a session in our quantum computer\n",
        "    estimator = Estimator(session=session)                              # Create a estimator runtime using our session\n",
        "    job = estimator.run(circuits=qc, observables=observable)            # Run the estimator primitive\n",
        "\n",
        "\n",
        "print(job.result())"
      ],
      "metadata": {
        "id": "sW2yPqmKZVCd"
      },
      "execution_count": null,
      "outputs": []
    },
    {
      "cell_type": "markdown",
      "source": [
        "#RESUMEN Y PASOS REALIZADOS\n",
        "Objetivo\n",
        "\n",
        "El objetivo es jugar con los valores esperados y el Estimador Primitivo en Qiskit. Se busca crear un estado cuántico con 4 posibles resultados y un operador que mida cada qubit en una base diferente.\n",
        "\n",
        "####Pasos Generales Realizados\n",
        "\n",
        "###Construcción de Operadores de Medición:\n",
        "\n",
        "Se crean operadores de medición utilizando matrices de Pauli y circuitos cuánticos.\n",
        "\n",
        "Se muestran ejemplos de cómo definir operadores directamente y cómo convertir circuitos en operadores.\n",
        "\n",
        "###Uso del Estimador Primitivo:\n",
        "\n",
        "Se utiliza el Estimador Primitivo en Qiskit para calcular los valores esperados de los observables después de medir los circuitos cuánticos en diferentes bases.\n",
        "\n",
        "Se muestra cómo conectar al servicio de Qiskit y seleccionar un backend simulador.\n",
        "\n",
        "###Medición en Diferentes Bases:\n",
        "\n",
        "Se prepara un circuito cuántico que representa el estado ∣+⟩ y se mide en la base X y en la base Z usando el Estimador Primitivo para obtener los valores esperados.\n",
        "\n",
        "###Cálculo de Valores Esperados en un Sistema de Dos Qubits:\n",
        "\n",
        "Se crea un estado cuántico ∣0+⟩ con un circuito de dos qubits.\n",
        "\n",
        "Se convierte el circuito en un vector de estado.\n",
        "\n",
        "Se crea un operador para medir el primer qubit en la base Z y el segundo qubit en la base X.\n",
        "\n",
        "Se calcula el valor esperado matemáticamente para sistemas pequeños.\n",
        "\n",
        "Se usa el Estimador Primitivo para calcular el valor esperado en el simulador."
      ],
      "metadata": {
        "id": "Ru-64wmf2ZsF"
      }
    }
  ]
}