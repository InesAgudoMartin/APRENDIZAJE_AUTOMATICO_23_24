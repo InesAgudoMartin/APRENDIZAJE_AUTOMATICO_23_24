{
  "nbformat": 4,
  "nbformat_minor": 0,
  "metadata": {
    "colab": {
      "provenance": [],
      "authorship_tag": "ABX9TyNiUWcbrx7frZcEUTSo6U6f",
      "include_colab_link": true
    },
    "kernelspec": {
      "name": "python3",
      "display_name": "Python 3"
    },
    "language_info": {
      "name": "python"
    }
  },
  "cells": [
    {
      "cell_type": "markdown",
      "metadata": {
        "id": "view-in-github",
        "colab_type": "text"
      },
      "source": [
        "<a href=\"https://colab.research.google.com/github/InesAgudoMartin/APRENDIZAJE_AUTOMATICO_23_24/blob/main/CLASE1_EDA.ipynb\" target=\"_parent\"><img src=\"https://colab.research.google.com/assets/colab-badge.svg\" alt=\"Open In Colab\"/></a>"
      ]
    },
    {
      "cell_type": "markdown",
      "source": [
        "**CLASE 1 EDA (15/09/25)**"
      ],
      "metadata": {
        "id": "izDAL6HXaioJ"
      }
    },
    {
      "cell_type": "markdown",
      "source": [
        "INICIO"
      ],
      "metadata": {
        "id": "g3nwYmGbsM5O"
      }
    },
    {
      "cell_type": "code",
      "execution_count": 1,
      "metadata": {
        "colab": {
          "base_uri": "https://localhost:8080/"
        },
        "id": "kb11XX90aeIj",
        "outputId": "84fa374a-85e2-44e9-a6d7-6712fb892916"
      },
      "outputs": [
        {
          "output_type": "stream",
          "name": "stdout",
          "text": [
            "dime tu nombreines\n",
            "Te llamas ines\n"
          ]
        }
      ],
      "source": [
        "nombre = input(\"dime tu nombre\")\n",
        "print(f\"Te llamas {nombre}\")\n"
      ]
    },
    {
      "cell_type": "markdown",
      "source": [
        "LISTAS"
      ],
      "metadata": {
        "id": "ch46tOIXsN1l"
      }
    },
    {
      "cell_type": "code",
      "source": [
        "lista=[] #lista vacía\n",
        "print(len(lista)) #nos devolveria 0, len nos devuelve tamaño lista\n",
        "#agregar elemento a la lista\n",
        "lista.append(\"pepe\")\n",
        "print(lista)\n",
        "print(len(lista))\n",
        "\n",
        "#REMOVE: para eliminar la primera ocurrencia de los valores que tenemos\n",
        "#REVSERSE: da la vuelta a la lista\n",
        "#SORT: ordena la lista\n",
        "#POP: eliminar ultimo elemento lista\n",
        "\n",
        "lista.insert(1,\"madrid\") #le damos posicion y valor y nos inserta el elemento en esa posicion y los de detras los mueve una posición siguiente\n",
        "print(lista)\n",
        "\n",
        "\n",
        "lista=[1,2,3,4,5]\n",
        "#num va tomando el valor de cada elem de la lista de manera secuencial\n",
        "#RECORREMOS POR VALOR\n",
        "for num in lista:\n",
        "  print(num)\n",
        "\n",
        "range(5) #genera lista de 0-4 (si en vez de ponerle 5 le pongo el tamaño de la lista es lo mismo que el bucle for anterior)\n",
        "for i in range(len(lista)):\n",
        "  print(i)\n",
        "\n",
        "#RECORREMOS POR ÍNDICE\n",
        "#acceder a una posición en la lista\n",
        "for i in range(len(lista)):\n",
        "  print(lista[i])\n",
        "\n",
        "#BUCLE WHILE\n",
        "i=0\n",
        "while i < len(lista):\n",
        "  print(lista[i])\n",
        "  i+=1 #no existe en python i++\n"
      ],
      "metadata": {
        "colab": {
          "base_uri": "https://localhost:8080/"
        },
        "id": "SpTfF0kKbgLn",
        "outputId": "330e3e33-9424-47c0-a5b3-8abdadc10f58"
      },
      "execution_count": 3,
      "outputs": [
        {
          "output_type": "stream",
          "name": "stdout",
          "text": [
            "0\n",
            "['pepe']\n",
            "1\n",
            "['pepe', 'madrid']\n",
            "1\n",
            "2\n",
            "3\n",
            "4\n",
            "5\n",
            "0\n",
            "1\n",
            "2\n",
            "3\n",
            "4\n",
            "1\n",
            "2\n",
            "3\n",
            "4\n",
            "5\n",
            "1\n",
            "2\n",
            "3\n",
            "4\n",
            "5\n"
          ]
        }
      ]
    },
    {
      "cell_type": "code",
      "source": [
        "lista=[1,2,3,4,5]\n",
        "lista1=[6,7,8,9]\n",
        "\n",
        "#FUNCIONES\n",
        "def imprimir(mi_lista):\n",
        "  i=0\n",
        "  while i < len(mi_lista):\n",
        "    print(mi_lista[i])\n",
        "    i += 1\n",
        "\n",
        "imprimir(lista)\n",
        "imprimir(lista1)\n"
      ],
      "metadata": {
        "colab": {
          "base_uri": "https://localhost:8080/"
        },
        "id": "GEFxOYlrezB2",
        "outputId": "6d18f606-3a7a-4078-d45e-b7da70e1ff2b"
      },
      "execution_count": 2,
      "outputs": [
        {
          "output_type": "stream",
          "name": "stdout",
          "text": [
            "1\n",
            "2\n",
            "3\n",
            "4\n",
            "5\n",
            "6\n",
            "7\n",
            "8\n",
            "9\n"
          ]
        }
      ]
    },
    {
      "cell_type": "markdown",
      "source": [
        "FUNCIONES"
      ],
      "metadata": {
        "id": "S3wzRqQ9sQf7"
      }
    },
    {
      "cell_type": "code",
      "source": [
        "#FUNCION QUE SOLO IMPRIMA LOS PARES\n",
        "lista=[3,4,9]\n",
        "lista1=[4,4,6]\n",
        "def devolver(mi_lista):\n",
        "  i=0\n",
        "  while i < len(mi_lista):\n",
        "    if mi_lista[i] % 2 == 0:\n",
        "      print(mi_lista[i])\n",
        "      i +=1\n",
        "devolver(lista)"
      ],
      "metadata": {
        "id": "XKEIg8xGgEkc"
      },
      "execution_count": null,
      "outputs": []
    },
    {
      "cell_type": "code",
      "source": [
        "#LISTA APARTE QUE GUARDE LOS PARES\n",
        "lista=[1,2,3,4,5]\n",
        "lista1=[6,7,8,9]\n",
        "def pares(mi_lista):\n",
        "  i=0\n",
        "  resultado=[]\n",
        "  while i < len(mi_lista):\n",
        "    if mi_lista[i] % 2 ==0:\n",
        "      resultado.append(mi_lista[i])\n",
        "    i +=1\n",
        "  return resultado\n",
        "\n",
        "solo_pares=pares(lista)\n",
        "print(solo_pares)"
      ],
      "metadata": {
        "colab": {
          "base_uri": "https://localhost:8080/"
        },
        "id": "XFhjlvBBhJAA",
        "outputId": "7f11d0f2-d05b-4d15-ac8a-30ae79200b33"
      },
      "execution_count": 10,
      "outputs": [
        {
          "output_type": "stream",
          "name": "stdout",
          "text": [
            "[2, 4]\n"
          ]
        }
      ]
    },
    {
      "cell_type": "code",
      "source": [
        "#FUNCIÓN QUE DADOS DOS NÚMEROS DEVUELVA LA DIVISIÓN\n",
        "#división en python devuelve float (2.0 por ejemplo)\n",
        "\n",
        "def dividir(numerador,denominador):\n",
        "  if denominador==0:\n",
        "    return 0 #porque sino nos da un error y asi lo evitamos\n",
        "  return numerador/denominador\n",
        "#para que me devuelva un entero puedo aplicar int\n",
        "#tambien se podria poner el int en la línea anterior:return int(numerador/denominador)\n",
        "resultado=int(dividir(10,5))\n",
        "print(resultado)"
      ],
      "metadata": {
        "colab": {
          "base_uri": "https://localhost:8080/"
        },
        "id": "-Wg6_wOfiHBP",
        "outputId": "8c634601-a1ab-4495-f790-2b43f172b05a"
      },
      "execution_count": 19,
      "outputs": [
        {
          "output_type": "stream",
          "name": "stdout",
          "text": [
            "2\n"
          ]
        }
      ]
    },
    {
      "cell_type": "markdown",
      "source": [
        "CLASES"
      ],
      "metadata": {
        "id": "aoso_6IfsScV"
      }
    },
    {
      "cell_type": "code",
      "source": [
        "class Alumno:\n",
        "\n",
        "  def __init__(self,edad): #cabecera de la función constructor\n",
        "  #variables a inicializar a un valor concreto\n",
        "    self.nombre=\"\"\n",
        "    self.apellido=\"\"\n",
        "    self.edad=edad\n",
        "  #var tipo alumno\n",
        "cristiano_ronaldo= Alumno(18)\n",
        "#como acceder a una variable\n",
        "print(cristiano_ronaldo.edad)\n"
      ],
      "metadata": {
        "colab": {
          "base_uri": "https://localhost:8080/"
        },
        "id": "FHohzog_lVRv",
        "outputId": "76620121-6117-49d8-ea97-298f94a31244"
      },
      "execution_count": 28,
      "outputs": [
        {
          "output_type": "stream",
          "name": "stdout",
          "text": [
            "18\n"
          ]
        }
      ]
    },
    {
      "cell_type": "code",
      "source": [
        "class Alumno:\n",
        "  def __init__(self,nombre,apellido,edad_alumno):\n",
        "    self.nombre=nombre\n",
        "    self.apellido=apellido\n",
        "    self.edad=edad_alumno\n",
        "\n",
        "  def imprimir_edad(self):\n",
        "    print(f\"El alumno {self.nombre} tiene {self.edad}\")\n",
        "\n",
        "a1= Alumno(\"Cristiano\", \"Ronaldo\", 18)\n",
        "print(f\"El alumno {a1.nombre} tiene {a1.edad}\")\n",
        "a2= Alumno(\"Vini\", \"Jr\",2)\n",
        "a3= Alumno(\"Pepe\", \"gonzalez\",20)\n",
        "a4= Alumno(\"Maria\", \"Martinez\",21)\n",
        "print(f\"El alumno {a2.nombre} tiene {a2.edad}\")\n",
        "\n",
        "a1.imprimir_edad()\n",
        "a2.imprimir_edad()\n",
        "\n",
        "\n",
        "#como imprimir la edad del alumno a3\n",
        "\n",
        "lista_alumnos=[a1,a2,a3,a4]\n",
        "for alumno in lista_alumnos:\n",
        "  alumno.imprimir_edad()"
      ],
      "metadata": {
        "colab": {
          "base_uri": "https://localhost:8080/"
        },
        "id": "wJ3KJFvYoQKe",
        "outputId": "0964826b-bba1-4fbd-99f3-7aa2bd0f59cc"
      },
      "execution_count": 25,
      "outputs": [
        {
          "output_type": "stream",
          "name": "stdout",
          "text": [
            "El alumno Cristiano tiene 18\n",
            "El alumno Vini tiene 2\n",
            "El alumno Cristiano tiene 18\n",
            "El alumno Vini tiene 2\n",
            "El alumno Cristiano tiene 18\n",
            "El alumno Vini tiene 2\n",
            "El alumno Pepe tiene 20\n",
            "El alumno Maria tiene 21\n"
          ]
        }
      ]
    },
    {
      "cell_type": "markdown",
      "source": [
        "EJERCICIO"
      ],
      "metadata": {
        "id": "jTCeVTd-sWEw"
      }
    },
    {
      "cell_type": "code",
      "source": [
        "#class circulo con at: radio y dentro funcion que imprima área y perímetro\n",
        "class Circulo(radio):\n"
      ],
      "metadata": {
        "id": "KjjwF1jxrI_-"
      },
      "execution_count": null,
      "outputs": []
    }
  ]
}