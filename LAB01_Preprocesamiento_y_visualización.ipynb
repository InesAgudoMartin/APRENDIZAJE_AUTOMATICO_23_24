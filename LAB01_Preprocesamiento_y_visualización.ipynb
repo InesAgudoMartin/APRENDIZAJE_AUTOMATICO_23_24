{
  "nbformat": 4,
  "nbformat_minor": 0,
  "metadata": {
    "colab": {
      "provenance": [],
      "toc_visible": true,
      "include_colab_link": true
    },
    "kernelspec": {
      "name": "python3",
      "display_name": "Python 3"
    },
    "language_info": {
      "name": "python"
    }
  },
  "cells": [
    {
      "cell_type": "markdown",
      "metadata": {
        "id": "view-in-github",
        "colab_type": "text"
      },
      "source": [
        "<a href=\"https://colab.research.google.com/github/InesAgudoMartin/APRENDIZAJE_AUTOMATICO_23_24/blob/main/LAB01_Preprocesamiento_y_visualizaci%C3%B3n.ipynb\" target=\"_parent\"><img src=\"https://colab.research.google.com/assets/colab-badge.svg\" alt=\"Open In Colab\"/></a>"
      ]
    },
    {
      "cell_type": "markdown",
      "source": [
        "#LAB01 Preprocesamiento y visualización\n",
        "\n",
        "María Rivas Ramos\n",
        "\n",
        "Inés Agudo\n",
        "\n",
        "Miguel Egido\n",
        "\n",
        "Noah García Villanueva\n"
      ],
      "metadata": {
        "id": "hDTqkgQquAIC"
      }
    },
    {
      "cell_type": "code",
      "execution_count": 2,
      "metadata": {
        "id": "sWZdtEgSt-UL",
        "colab": {
          "base_uri": "https://localhost:8080/"
        },
        "outputId": "12e16cfa-f5e0-4856-b016-a69210e40b63"
      },
      "outputs": [
        {
          "output_type": "stream",
          "name": "stdout",
          "text": [
            "Mounted at /content/drive\n"
          ]
        }
      ],
      "source": [
        "from google.colab import drive\n",
        "drive.mount('/content/drive')"
      ]
    },
    {
      "cell_type": "code",
      "source": [
        "import pandas as pd\n",
        "import numpy as np\n",
        "import matplotlib.pyplot as plt\n",
        "from IPython.display import display\n",
        "\n",
        "# Usamos esto para que se nos muestren todos los atributos\n",
        "pd.set_option('display.max_rows', 500)\n",
        "pd.set_option('display.max_columns', 500)\n",
        "pd.set_option('display.width', 1000)\n",
        "\n",
        "# Carga de dataset en crudo, usando el método read_csv method.\n",
        "# Más info: https://pandas.pydata.org/docs/reference/api/pandas.read_csv.html\n",
        "\n",
        "data_file_path = '/content/drive/MyDrive/MINERIA DE DATOS/PRACTICA 1/AviationData_practica1-1.csv'\n",
        "\n",
        "full_data = pd.read_csv(data_file_path)"
      ],
      "metadata": {
        "id": "PPnpIt2WvZoG",
        "colab": {
          "base_uri": "https://localhost:8080/",
          "height": 321
        },
        "outputId": "7b5848fb-f3c7-43a7-d5d6-8b3ab7f369b9"
      },
      "execution_count": 3,
      "outputs": [
        {
          "output_type": "error",
          "ename": "FileNotFoundError",
          "evalue": "[Errno 2] No such file or directory: '/content/drive/MyDrive/MINERIA DE DATOS/PRACTICA 1/AviationData_practica1-1.csv'",
          "traceback": [
            "\u001b[0;31m---------------------------------------------------------------------------\u001b[0m",
            "\u001b[0;31mFileNotFoundError\u001b[0m                         Traceback (most recent call last)",
            "\u001b[0;32m<ipython-input-3-d0402cf35bed>\u001b[0m in \u001b[0;36m<cell line: 0>\u001b[0;34m()\u001b[0m\n\u001b[1;32m     14\u001b[0m \u001b[0mdata_file_path\u001b[0m \u001b[0;34m=\u001b[0m \u001b[0;34m'/content/drive/MyDrive/MINERIA DE DATOS/PRACTICA 1/AviationData_practica1-1.csv'\u001b[0m\u001b[0;34m\u001b[0m\u001b[0;34m\u001b[0m\u001b[0m\n\u001b[1;32m     15\u001b[0m \u001b[0;34m\u001b[0m\u001b[0m\n\u001b[0;32m---> 16\u001b[0;31m \u001b[0mfull_data\u001b[0m \u001b[0;34m=\u001b[0m \u001b[0mpd\u001b[0m\u001b[0;34m.\u001b[0m\u001b[0mread_csv\u001b[0m\u001b[0;34m(\u001b[0m\u001b[0mdata_file_path\u001b[0m\u001b[0;34m)\u001b[0m\u001b[0;34m\u001b[0m\u001b[0;34m\u001b[0m\u001b[0m\n\u001b[0m",
            "\u001b[0;32m/usr/local/lib/python3.11/dist-packages/pandas/io/parsers/readers.py\u001b[0m in \u001b[0;36mread_csv\u001b[0;34m(filepath_or_buffer, sep, delimiter, header, names, index_col, usecols, dtype, engine, converters, true_values, false_values, skipinitialspace, skiprows, skipfooter, nrows, na_values, keep_default_na, na_filter, verbose, skip_blank_lines, parse_dates, infer_datetime_format, keep_date_col, date_parser, date_format, dayfirst, cache_dates, iterator, chunksize, compression, thousands, decimal, lineterminator, quotechar, quoting, doublequote, escapechar, comment, encoding, encoding_errors, dialect, on_bad_lines, delim_whitespace, low_memory, memory_map, float_precision, storage_options, dtype_backend)\u001b[0m\n\u001b[1;32m   1024\u001b[0m     \u001b[0mkwds\u001b[0m\u001b[0;34m.\u001b[0m\u001b[0mupdate\u001b[0m\u001b[0;34m(\u001b[0m\u001b[0mkwds_defaults\u001b[0m\u001b[0;34m)\u001b[0m\u001b[0;34m\u001b[0m\u001b[0;34m\u001b[0m\u001b[0m\n\u001b[1;32m   1025\u001b[0m \u001b[0;34m\u001b[0m\u001b[0m\n\u001b[0;32m-> 1026\u001b[0;31m     \u001b[0;32mreturn\u001b[0m \u001b[0m_read\u001b[0m\u001b[0;34m(\u001b[0m\u001b[0mfilepath_or_buffer\u001b[0m\u001b[0;34m,\u001b[0m \u001b[0mkwds\u001b[0m\u001b[0;34m)\u001b[0m\u001b[0;34m\u001b[0m\u001b[0;34m\u001b[0m\u001b[0m\n\u001b[0m\u001b[1;32m   1027\u001b[0m \u001b[0;34m\u001b[0m\u001b[0m\n\u001b[1;32m   1028\u001b[0m \u001b[0;34m\u001b[0m\u001b[0m\n",
            "\u001b[0;32m/usr/local/lib/python3.11/dist-packages/pandas/io/parsers/readers.py\u001b[0m in \u001b[0;36m_read\u001b[0;34m(filepath_or_buffer, kwds)\u001b[0m\n\u001b[1;32m    618\u001b[0m \u001b[0;34m\u001b[0m\u001b[0m\n\u001b[1;32m    619\u001b[0m     \u001b[0;31m# Create the parser.\u001b[0m\u001b[0;34m\u001b[0m\u001b[0;34m\u001b[0m\u001b[0m\n\u001b[0;32m--> 620\u001b[0;31m     \u001b[0mparser\u001b[0m \u001b[0;34m=\u001b[0m \u001b[0mTextFileReader\u001b[0m\u001b[0;34m(\u001b[0m\u001b[0mfilepath_or_buffer\u001b[0m\u001b[0;34m,\u001b[0m \u001b[0;34m**\u001b[0m\u001b[0mkwds\u001b[0m\u001b[0;34m)\u001b[0m\u001b[0;34m\u001b[0m\u001b[0;34m\u001b[0m\u001b[0m\n\u001b[0m\u001b[1;32m    621\u001b[0m \u001b[0;34m\u001b[0m\u001b[0m\n\u001b[1;32m    622\u001b[0m     \u001b[0;32mif\u001b[0m \u001b[0mchunksize\u001b[0m \u001b[0;32mor\u001b[0m \u001b[0miterator\u001b[0m\u001b[0;34m:\u001b[0m\u001b[0;34m\u001b[0m\u001b[0;34m\u001b[0m\u001b[0m\n",
            "\u001b[0;32m/usr/local/lib/python3.11/dist-packages/pandas/io/parsers/readers.py\u001b[0m in \u001b[0;36m__init__\u001b[0;34m(self, f, engine, **kwds)\u001b[0m\n\u001b[1;32m   1618\u001b[0m \u001b[0;34m\u001b[0m\u001b[0m\n\u001b[1;32m   1619\u001b[0m         \u001b[0mself\u001b[0m\u001b[0;34m.\u001b[0m\u001b[0mhandles\u001b[0m\u001b[0;34m:\u001b[0m \u001b[0mIOHandles\u001b[0m \u001b[0;34m|\u001b[0m \u001b[0;32mNone\u001b[0m \u001b[0;34m=\u001b[0m \u001b[0;32mNone\u001b[0m\u001b[0;34m\u001b[0m\u001b[0;34m\u001b[0m\u001b[0m\n\u001b[0;32m-> 1620\u001b[0;31m         \u001b[0mself\u001b[0m\u001b[0;34m.\u001b[0m\u001b[0m_engine\u001b[0m \u001b[0;34m=\u001b[0m \u001b[0mself\u001b[0m\u001b[0;34m.\u001b[0m\u001b[0m_make_engine\u001b[0m\u001b[0;34m(\u001b[0m\u001b[0mf\u001b[0m\u001b[0;34m,\u001b[0m \u001b[0mself\u001b[0m\u001b[0;34m.\u001b[0m\u001b[0mengine\u001b[0m\u001b[0;34m)\u001b[0m\u001b[0;34m\u001b[0m\u001b[0;34m\u001b[0m\u001b[0m\n\u001b[0m\u001b[1;32m   1621\u001b[0m \u001b[0;34m\u001b[0m\u001b[0m\n\u001b[1;32m   1622\u001b[0m     \u001b[0;32mdef\u001b[0m \u001b[0mclose\u001b[0m\u001b[0;34m(\u001b[0m\u001b[0mself\u001b[0m\u001b[0;34m)\u001b[0m \u001b[0;34m->\u001b[0m \u001b[0;32mNone\u001b[0m\u001b[0;34m:\u001b[0m\u001b[0;34m\u001b[0m\u001b[0;34m\u001b[0m\u001b[0m\n",
            "\u001b[0;32m/usr/local/lib/python3.11/dist-packages/pandas/io/parsers/readers.py\u001b[0m in \u001b[0;36m_make_engine\u001b[0;34m(self, f, engine)\u001b[0m\n\u001b[1;32m   1878\u001b[0m                 \u001b[0;32mif\u001b[0m \u001b[0;34m\"b\"\u001b[0m \u001b[0;32mnot\u001b[0m \u001b[0;32min\u001b[0m \u001b[0mmode\u001b[0m\u001b[0;34m:\u001b[0m\u001b[0;34m\u001b[0m\u001b[0;34m\u001b[0m\u001b[0m\n\u001b[1;32m   1879\u001b[0m                     \u001b[0mmode\u001b[0m \u001b[0;34m+=\u001b[0m \u001b[0;34m\"b\"\u001b[0m\u001b[0;34m\u001b[0m\u001b[0;34m\u001b[0m\u001b[0m\n\u001b[0;32m-> 1880\u001b[0;31m             self.handles = get_handle(\n\u001b[0m\u001b[1;32m   1881\u001b[0m                 \u001b[0mf\u001b[0m\u001b[0;34m,\u001b[0m\u001b[0;34m\u001b[0m\u001b[0;34m\u001b[0m\u001b[0m\n\u001b[1;32m   1882\u001b[0m                 \u001b[0mmode\u001b[0m\u001b[0;34m,\u001b[0m\u001b[0;34m\u001b[0m\u001b[0;34m\u001b[0m\u001b[0m\n",
            "\u001b[0;32m/usr/local/lib/python3.11/dist-packages/pandas/io/common.py\u001b[0m in \u001b[0;36mget_handle\u001b[0;34m(path_or_buf, mode, encoding, compression, memory_map, is_text, errors, storage_options)\u001b[0m\n\u001b[1;32m    871\u001b[0m         \u001b[0;32mif\u001b[0m \u001b[0mioargs\u001b[0m\u001b[0;34m.\u001b[0m\u001b[0mencoding\u001b[0m \u001b[0;32mand\u001b[0m \u001b[0;34m\"b\"\u001b[0m \u001b[0;32mnot\u001b[0m \u001b[0;32min\u001b[0m \u001b[0mioargs\u001b[0m\u001b[0;34m.\u001b[0m\u001b[0mmode\u001b[0m\u001b[0;34m:\u001b[0m\u001b[0;34m\u001b[0m\u001b[0;34m\u001b[0m\u001b[0m\n\u001b[1;32m    872\u001b[0m             \u001b[0;31m# Encoding\u001b[0m\u001b[0;34m\u001b[0m\u001b[0;34m\u001b[0m\u001b[0m\n\u001b[0;32m--> 873\u001b[0;31m             handle = open(\n\u001b[0m\u001b[1;32m    874\u001b[0m                 \u001b[0mhandle\u001b[0m\u001b[0;34m,\u001b[0m\u001b[0;34m\u001b[0m\u001b[0;34m\u001b[0m\u001b[0m\n\u001b[1;32m    875\u001b[0m                 \u001b[0mioargs\u001b[0m\u001b[0;34m.\u001b[0m\u001b[0mmode\u001b[0m\u001b[0;34m,\u001b[0m\u001b[0;34m\u001b[0m\u001b[0;34m\u001b[0m\u001b[0m\n",
            "\u001b[0;31mFileNotFoundError\u001b[0m: [Errno 2] No such file or directory: '/content/drive/MyDrive/MINERIA DE DATOS/PRACTICA 1/AviationData_practica1-1.csv'"
          ]
        }
      ]
    },
    {
      "cell_type": "markdown",
      "source": [
        "## Exploración de los datos"
      ],
      "metadata": {
        "id": "HhqVDxFv3Smy"
      }
    },
    {
      "cell_type": "markdown",
      "source": [
        "### Exploración del dataset"
      ],
      "metadata": {
        "id": "BJwD-I4ULEnF"
      }
    },
    {
      "cell_type": "code",
      "source": [
        "# El tipo de datos en el que lo hemos cargado es un DataFrame object.\n",
        "# Más info: https://pandas.pydata.org/docs/reference/api/pandas.DataFrame.html\n",
        "\n",
        "print(type(full_data))"
      ],
      "metadata": {
        "id": "mjIxiaOI3UA7"
      },
      "execution_count": null,
      "outputs": []
    },
    {
      "cell_type": "code",
      "source": [
        "# Podemos visualizar el contenido\n",
        "\n",
        "full_data"
      ],
      "metadata": {
        "id": "fkx0S9DU3vho",
        "collapsed": true
      },
      "execution_count": null,
      "outputs": []
    },
    {
      "cell_type": "code",
      "source": [
        "# Resumen de información que hay en el DataFrame\n",
        "\n",
        "full_data.info()"
      ],
      "metadata": {
        "id": "4Zo7VxZu6svv",
        "collapsed": true
      },
      "execution_count": null,
      "outputs": []
    },
    {
      "cell_type": "markdown",
      "source": [
        "\n",
        "### Variables que nos interesan\n",
        "Estas son las variables clave que utilizaremos en el análisis, ya que contienen información relevante sobre la que se pregunta\n",
        "\n",
        "- **Event.Id**\n",
        "- **Event.Date**\n",
        "- **Country**\n",
        "- **Injury.Severity**\n",
        "- **Total.Fatal.Injuries**\n",
        "- **Total.Serious.Injuries**\n",
        "- **Total.Minor.Injuries**\n",
        "- **Weather.Condition**\n",
        "- **Broad.phase.of.flight**\n",
        "\n",
        "\n",
        "### Variables que no nos interesan\n",
        "Estas variables no son relevantes para el análisis, ya sea porque contienen información redundante, identificadores únicos sin utilidad analítica o detalles que no afectan a nuestras preguntas de investigación.\n",
        "\n",
        "- **Accident.Number**\n",
        "- **Investigation.Type**\n",
        "- **Location**\n",
        "- **Latitude**\n",
        "- **Longitude**\n",
        "- **Airport.Code**\n",
        "- **Airport.Name**\n",
        "- **Aircraft.damage**\n",
        "- **Aircraft.Category**\n",
        "- **Registration.Number**\n",
        "- **Make**\n",
        "- **Model**\n",
        "- **Amateur.Built**\n",
        "- **Number.of.Engines**\n",
        "- **Engine.Type**\n",
        "- **FAR.Description**\n",
        "- **Schedule**\n",
        "- **Purpose.of.flight**\n",
        "- **Air.carrier**\n",
        "- **Total.Uninjured**\n",
        "- **Report.Status**\n",
        "- **Publication.Date**\n"
      ],
      "metadata": {
        "id": "O1OJ4eGeyPkb"
      }
    },
    {
      "cell_type": "markdown",
      "source": [
        "## Limpieza de los datos: duplicados"
      ],
      "metadata": {
        "id": "-qAyMPA-AZnS"
      }
    },
    {
      "cell_type": "markdown",
      "source": [
        "El único atributo que nos interesa que no esté duplicado es \"Event.id\""
      ],
      "metadata": {
        "id": "oz5EbCKjeLpu"
      }
    },
    {
      "cell_type": "code",
      "source": [
        "# Buscamos una de los atributos candidatos a tener duplicados. Por ejemplo 'Event.Id'\n",
        "# Esto nos genera una serie de booleanos que indica si hay o no duplicado\n",
        "\n",
        "duplicate_values = full_data['Event.Id'].duplicated()\n",
        "\n",
        "print(duplicate_values.unique())"
      ],
      "metadata": {
        "id": "GmgLi8ZzAaYT"
      },
      "execution_count": null,
      "outputs": []
    },
    {
      "cell_type": "code",
      "source": [
        "# Podemos mostrar la primera ocurrencia de los duplicados\n",
        "\n",
        "print(full_data[full_data.duplicated(subset='Event.Id')])"
      ],
      "metadata": {
        "id": "BwrZv19pAnuA",
        "collapsed": true
      },
      "execution_count": null,
      "outputs": []
    },
    {
      "cell_type": "code",
      "source": [
        "# El método drop_duplicates borra los duplicados\n",
        "# 1. Si keep = 'first' mantiene la primera ocurrencia\n",
        "\n",
        "new_data_set = full_data.drop_duplicates(\n",
        "    subset = ['Event.Id'],\n",
        "    keep = 'first',\n",
        "    inplace = False) # Esto significa que hace una copia del DataFrame\n",
        "\n",
        "new_data_set.info()\n",
        "\n",
        "print(new_data_set.loc[new_data_set['Event.Id']==63])"
      ],
      "metadata": {
        "id": "cGAuBlJbadHX",
        "collapsed": true
      },
      "execution_count": null,
      "outputs": []
    },
    {
      "cell_type": "code",
      "source": [
        "# COMPROBAMOS QUE SE HAN ELIMINADO LOS DUPLICADOS CORRECTAMENTE\n",
        "\n",
        "duplicate_values = new_data_set['Event.Id'].duplicated()\n",
        "\n",
        "print(duplicate_values.unique())"
      ],
      "metadata": {
        "id": "pMsAttqBd1gf"
      },
      "execution_count": null,
      "outputs": []
    },
    {
      "cell_type": "markdown",
      "source": [
        "## Ánalisis de los NA de cada atributo"
      ],
      "metadata": {
        "id": "zUQjkqtjk4BU"
      }
    },
    {
      "cell_type": "code",
      "source": [
        "# Contar los valores nulos en cada columna\n",
        "nans_count = new_data_set.isnull().sum()\n",
        "\n",
        "# Mostrar en forma de tabla\n",
        "nans_count.to_frame(name=\"Cantidad de NaNs\")"
      ],
      "metadata": {
        "id": "QIHZBI-FlAnU",
        "collapsed": true
      },
      "execution_count": null,
      "outputs": []
    },
    {
      "cell_type": "markdown",
      "source": [
        "Observamos que nuestra base de datos tiene una gran cantidad de NANs por lo que vamos a proceder a ignorar los atributos que no son necesarios y más a delante a completar los datos que las variables que sí nos interesan pero que debido a los datos faltantes puede dar error.\n",
        "\n",
        "En el caso de los atributos que son necesarios para el análisis crearemos una categoría llamada \"desconocido\" y sustituiremos los valores desconocidos.\n",
        "\n",
        "Procedemos a analizar y limpiar las siguientes variables:\n",
        "\n",
        "- Event.Date\n",
        "- Country\n",
        "- Injury.Severity\n",
        "- Total.Fatal.Injuries\n",
        "- Total.Serious.Injuries\n",
        "- Total.Minor.Injuries\n",
        "- Weather.Condition\n",
        "- Broad.phase.of.flight\n"
      ],
      "metadata": {
        "id": "e1u_RZ0Zl8Kj"
      }
    },
    {
      "cell_type": "markdown",
      "source": [
        "### Event.Date"
      ],
      "metadata": {
        "id": "Tcn6EID_8Pbm"
      }
    },
    {
      "cell_type": "code",
      "source": [
        "print(new_data_set[\"Event.Date\"].head())  # Ver las primeras fechas\n",
        "print(new_data_set[\"Event.Date\"].dtype)   # Ver el tipo de dato actual"
      ],
      "metadata": {
        "id": "ZmhFkfTV8goP",
        "collapsed": true
      },
      "execution_count": null,
      "outputs": []
    },
    {
      "cell_type": "code",
      "source": [
        "new_data_set.loc[:, \"Event.Date\"] = pd.to_datetime(new_data_set[\"Event.Date\"], format=\"%Y-%m-%d\", errors=\"coerce\")"
      ],
      "metadata": {
        "id": "xF5Cy_4j-6sf"
      },
      "execution_count": null,
      "outputs": []
    },
    {
      "cell_type": "code",
      "source": [
        "# Comprobamos que no hay valores nulos\n",
        "print(new_data_set[\"Event.Date\"].isnull().sum())\n"
      ],
      "metadata": {
        "id": "Yg118YCoDBLE"
      },
      "execution_count": null,
      "outputs": []
    },
    {
      "cell_type": "code",
      "source": [
        "#  comprobamos que se ha guardado bien\n",
        "print(new_data_set[\"Event.Date\"].head())  # Ver las primeras fechas\n",
        "print(new_data_set[\"Event.Date\"].dtype)   # Ver el tipo de dato actual"
      ],
      "metadata": {
        "id": "vMMlFLs5EfO9",
        "collapsed": true
      },
      "execution_count": null,
      "outputs": []
    },
    {
      "cell_type": "markdown",
      "source": [
        "### Injury.serevity"
      ],
      "metadata": {
        "id": "t9LSqt2Ntx_H"
      }
    },
    {
      "cell_type": "code",
      "source": [
        "injury_severity_counts = new_data_set[\"Injury.Severity\"].value_counts(dropna=False)\n",
        "display(injury_severity_counts.to_frame(name=\"Cantidad\"))\n"
      ],
      "metadata": {
        "id": "i4m3DO5LtNFu",
        "collapsed": true
      },
      "execution_count": null,
      "outputs": []
    },
    {
      "cell_type": "code",
      "source": [
        "# Reemplazar los valores NaN en la columna \"Injury.Severity\" por \"Unavailable\"\n",
        "new_data_set.loc[:, \"Injury.Severity\"] = new_data_set[\"Injury.Severity\"].fillna(\"Unavailable\")\n",
        "\n",
        "\n",
        "# Verificar el cambio\n",
        "injury_severity_counts = new_data_set[\"Injury.Severity\"].value_counts()\n",
        "\n",
        "# Mostrar los resultados actualizados\n",
        "display(injury_severity_counts.to_frame(name=\"Cantidad\"))\n"
      ],
      "metadata": {
        "id": "8xFYOooct4qH",
        "collapsed": true
      },
      "execution_count": null,
      "outputs": []
    },
    {
      "cell_type": "markdown",
      "source": [
        "Para este atributo hemos observado que había NA pero también una variable llamada Unavailable, por lo que las hemos fusionado. Podemos observar como hemos eliminado la categoria de NA y la hemos juntado con Unavailable."
      ],
      "metadata": {
        "id": "gYMKnfI08Ajo"
      }
    },
    {
      "cell_type": "markdown",
      "source": [
        "### Country"
      ],
      "metadata": {
        "id": "mka1sRgAt55k"
      }
    },
    {
      "cell_type": "code",
      "source": [
        "# Contar la cantidad de ocurrencias de cada categoría en las columnas seleccionadas\n",
        "country_counts = new_data_set[\"Country\"].value_counts(dropna=False)\n",
        "\n",
        "display(country_counts.to_frame(name=\"Cantidad\"))\n"
      ],
      "metadata": {
        "id": "_9XSZiv3rwFK",
        "collapsed": true
      },
      "execution_count": null,
      "outputs": []
    },
    {
      "cell_type": "markdown",
      "source": [
        "Vamos a normalizar los nombres poniendolos en minusculas y sin espacios para en el caso de que haya repeticiones no se diferencien por errores de trancripción."
      ],
      "metadata": {
        "id": "7EfV5E6WKYkZ"
      }
    },
    {
      "cell_type": "code",
      "source": [
        "# Normalizar \"Country\": convertir a minúsculas y eliminar espacios extra\n",
        "new_data_set.loc[:, \"Country\"] = new_data_set[\"Country\"].str.strip().str.lower()\n"
      ],
      "metadata": {
        "id": "ttc6LUfuKj7A"
      },
      "execution_count": null,
      "outputs": []
    },
    {
      "cell_type": "code",
      "source": [
        "# Contar la cantidad de ocurrencias de cada país y ordenarlos alfabéticamente\n",
        "country_counts_sorted = new_data_set[\"Country\"].value_counts(dropna=False).sort_index()\n",
        "\n",
        "# Mostrar los resultados en orden alfabético\n",
        "display(country_counts_sorted.to_frame(name=\"Cantidad\"))\n"
      ],
      "metadata": {
        "id": "9ERPExsHLuHw",
        "collapsed": true
      },
      "execution_count": null,
      "outputs": []
    },
    {
      "cell_type": "markdown",
      "source": [
        "Vamos a unir los NA con los Unknown pues significan lo mismo.\n",
        "No se juntan a missing porque aun que no se sepa a que país corresponde consideramos que es un dato importante pues representa aviones que se han perdido."
      ],
      "metadata": {
        "id": "c5TiwNpd1Etr"
      }
    },
    {
      "cell_type": "code",
      "source": [
        "# Reemplazar los valores NaN en la columna \"Country\" por \"Unknown\"\n",
        "new_data_set.loc[:, \"Country\"] = new_data_set[\"Country\"].fillna(\"unknown\")\n",
        "\n",
        "# Verificar el cambio y ordenarlos alfabéticamente\n",
        "country_counts_sorted = new_data_set[\"Country\"].value_counts(dropna=False).sort_index()\n",
        "\n",
        "# Mostrar los resultados en orden alfabético\n",
        "display(country_counts_sorted.to_frame(name=\"Cantidad\"))"
      ],
      "metadata": {
        "id": "far-l_cn1iR3",
        "collapsed": true
      },
      "execution_count": null,
      "outputs": []
    },
    {
      "cell_type": "markdown",
      "source": [
        "Podemos observar como ahora hay 225 Unknown incluyendo los anteriores NA."
      ],
      "metadata": {
        "id": "9MZS1yFx3vrJ"
      }
    },
    {
      "cell_type": "markdown",
      "source": [
        "Tras observar los paises, hemos observado algunos fallos que debemos corregir, los fallos son los siguientes:\n",
        "\n",
        "- Hay un pais que se llama Un --> asumimos que es unknown\n",
        "\n",
        "- \"Turks And Caicos\" y \"Turks and Caicos Islands las juntamos pues todo el territorio son islas.\n",
        "\n",
        "- \"Korea, Republic Of\", \"South Korean\" y \"South Korea\" los unimos en un solo país\n",
        "\n",
        "- \"Cote D'ivoire\" y \"Côte d'Ivoire los juntamos pues son el mismo con un acento de diferencia (^)\n",
        "\n",
        "- Niger y Nigeria son el mismo país, los unimos\n",
        "\n",
        "- block 651a es una dirección de Singapore, por lo que lo incluimos en ese país"
      ],
      "metadata": {
        "id": "lRT9POqyI0Ui"
      }
    },
    {
      "cell_type": "code",
      "source": [
        "# Reemplazar \"Un\" con \"unkown\"\n",
        "new_data_set.loc[:, \"Country\"] = new_data_set[\"Country\"].replace({\"un\": \"unknown\"})"
      ],
      "metadata": {
        "id": "VDvutdeSAh1H"
      },
      "execution_count": null,
      "outputs": []
    },
    {
      "cell_type": "code",
      "source": [
        "# Reemplazar \"Turks And Caicos\" con \"Turks and Caicos Islands\"\n",
        "new_data_set.loc[:, \"Country\"] = new_data_set[\"Country\"].replace({\"turks and caicos\": \"turks and caicos islands\"})"
      ],
      "metadata": {
        "id": "miFnb7z1LOkU"
      },
      "execution_count": null,
      "outputs": []
    },
    {
      "cell_type": "code",
      "source": [
        "# Reemplazar \"Cote D'ivoire\" con \"Côte d'Ivoire\"\n",
        "new_data_set.loc[:, \"Country\"] = new_data_set[\"Country\"].replace({\"cote d'ivoire\": \"côte d'ivoire\"})"
      ],
      "metadata": {
        "id": "_b5ne4exLOa4"
      },
      "execution_count": null,
      "outputs": []
    },
    {
      "cell_type": "code",
      "source": [
        "# Reemplazar \"Korea, Republic Of\" con \"South Korea\"\n",
        "new_data_set.loc[:, \"Country\"] = new_data_set[\"Country\"].replace({\"korea, republic of\": \"south korea\"})"
      ],
      "metadata": {
        "id": "tf4TyFTYsKzm"
      },
      "execution_count": null,
      "outputs": []
    },
    {
      "cell_type": "code",
      "source": [
        "# Reemplazar \"South Korean\" con \"South Korea\"\n",
        "new_data_set.loc[:, \"Country\"] = new_data_set[\"Country\"].replace({\"south korean\": \"south korea\"})"
      ],
      "metadata": {
        "id": "wxghyED2sfNd"
      },
      "execution_count": null,
      "outputs": []
    },
    {
      "cell_type": "code",
      "source": [
        "# Reemplazar \"Niger\" con \"Nigeria\"\n",
        "new_data_set.loc[:, \"Country\"] = new_data_set[\"Country\"].replace({\"niger\": \"nigeria\"})"
      ],
      "metadata": {
        "id": "JsQw8FSHLOMs"
      },
      "execution_count": null,
      "outputs": []
    },
    {
      "cell_type": "code",
      "source": [
        "# Reemplazar \"block 651a\" con \"Singapore\"\n",
        "new_data_set.loc[:, \"Country\"] = new_data_set[\"Country\"].replace({\"block 651a\": \"singapore\"})"
      ],
      "metadata": {
        "id": "o4v-cQ7juxec"
      },
      "execution_count": null,
      "outputs": []
    },
    {
      "cell_type": "code",
      "source": [
        "# Contar la cantidad de ocurrencias de cada país y ordenarlos alfabéticamente\n",
        "country_counts_sorted = new_data_set[\"Country\"].value_counts(dropna=False).sort_index()\n",
        "\n",
        "# Mostrar los resultados en orden alfabético\n",
        "display(country_counts_sorted.to_frame(name=\"Cantidad\"))"
      ],
      "metadata": {
        "id": "nufber2DKN1y",
        "collapsed": true
      },
      "execution_count": null,
      "outputs": []
    },
    {
      "cell_type": "markdown",
      "source": [
        "### Weather.Condition\n"
      ],
      "metadata": {
        "id": "EWy3JYQk8T6g"
      }
    },
    {
      "cell_type": "markdown",
      "source": [
        "Vemos que hay UNK y Unk que son la misma pir lo que hay que cambiarlo y unirlos con NA"
      ],
      "metadata": {
        "id": "u3XSRvY-D5Vx"
      }
    },
    {
      "cell_type": "code",
      "source": [
        "weather_condition_counts = new_data_set[\"Weather.Condition\"].value_counts(dropna=False)\n",
        "display(weather_condition_counts.to_frame(name=\"Cantidad\"))"
      ],
      "metadata": {
        "id": "NfVkwf518f3F",
        "collapsed": true
      },
      "execution_count": null,
      "outputs": []
    },
    {
      "cell_type": "code",
      "source": [
        "# Reemplazar \"Unk\" con \"UNK\"\n",
        "new_data_set.loc[:, \"Weather.Condition\"] = new_data_set[\"Weather.Condition\"].replace({\"Unk\": \"UNK\"})\n",
        "\n",
        "# Reemplazar valores NaN con \"UNK\"\n",
        "new_data_set.loc[:, \"Weather.Condition\"] = new_data_set[\"Weather.Condition\"].fillna(\"UNK\")\n",
        "\n",
        "# Verificar el cambio\n",
        "weather_condition_counts = new_data_set[\"Weather.Condition\"].value_counts(dropna=False)\n",
        "\n",
        "# Mostrar los resultados actualizados\n",
        "display(weather_condition_counts.to_frame(name=\"Cantidad\"))"
      ],
      "metadata": {
        "id": "l8AuFvlX4I6g",
        "collapsed": true
      },
      "execution_count": null,
      "outputs": []
    },
    {
      "cell_type": "markdown",
      "source": [
        "### Broad.phase.of.flight\n"
      ],
      "metadata": {
        "id": "p5bCRZ_i8aoB"
      }
    },
    {
      "cell_type": "markdown",
      "source": [
        "unir unk na y otros"
      ],
      "metadata": {
        "id": "QAAHGT-EEPVg"
      }
    },
    {
      "cell_type": "code",
      "source": [
        "phase_condition_counts = new_data_set[\"Broad.phase.of.flight\"].value_counts(dropna=False)\n",
        "display(phase_condition_counts.to_frame(name=\"Cantidad\"))"
      ],
      "metadata": {
        "id": "jaCN-6WbEEof",
        "collapsed": true
      },
      "execution_count": null,
      "outputs": []
    },
    {
      "cell_type": "code",
      "source": [
        "# Reemplazar valores NaN con \"Unknown\"\n",
        "new_data_set.loc[:, \"Broad.phase.of.flight\"] = new_data_set[\"Broad.phase.of.flight\"].fillna(\"Unknown\")\n",
        "\n",
        "\n",
        "# Verificar el cambio\n",
        "phase_condition_counts = new_data_set[\"Broad.phase.of.flight\"].value_counts(dropna=False)\n",
        "\n",
        "# Mostrar los resultados actualizados\n",
        "display(phase_condition_counts.to_frame(name=\"Cantidad\"))\n"
      ],
      "metadata": {
        "id": "04w52C9i-sPk",
        "collapsed": true
      },
      "execution_count": null,
      "outputs": []
    },
    {
      "cell_type": "code",
      "source": [
        "# Reemplazar \"Unknown\" con \"Other\"\n",
        "new_data_set.loc[:, \"Broad.phase.of.flight\"] = new_data_set[\"Broad.phase.of.flight\"].replace({\"Unknown\": \"Other\"})"
      ],
      "metadata": {
        "id": "_bdMRtCx7scm"
      },
      "execution_count": null,
      "outputs": []
    },
    {
      "cell_type": "code",
      "source": [
        "# Verificar el cambio\n",
        "phase_condition_counts = new_data_set[\"Broad.phase.of.flight\"].value_counts(dropna=False)\n",
        "\n",
        "# Mostrar los resultados actualizados\n",
        "display(phase_condition_counts.to_frame(name=\"Cantidad\"))"
      ],
      "metadata": {
        "id": "i6PoLAO17527",
        "collapsed": true
      },
      "execution_count": null,
      "outputs": []
    },
    {
      "cell_type": "markdown",
      "source": [
        "### Total.Fatal.Injuries\n"
      ],
      "metadata": {
        "id": "u3O92_vX8hm1"
      }
    },
    {
      "cell_type": "code",
      "source": [
        "# Seleccionar las columnas relevantes\n",
        "severity_injuries_table = new_data_set[[\"Injury.Severity\", \"Total.Fatal.Injuries\", \"Total.Serious.Injuries\", \"Total.Minor.Injuries\"]]\n",
        "\n",
        "# Mostrar la tabla\n",
        "display(severity_injuries_table.head())  # Muestra las primeras filas"
      ],
      "metadata": {
        "id": "IRMPjcQEHuMF",
        "collapsed": true
      },
      "execution_count": null,
      "outputs": []
    },
    {
      "cell_type": "code",
      "source": [
        "fatal_injuries_nans = new_data_set[\"Total.Fatal.Injuries\"].isnull().sum()\n",
        "print(f\"NAn en 'Total.Fatal.Injuries': {fatal_injuries_nans}\")\n"
      ],
      "metadata": {
        "id": "4vNSVW4q8sGW"
      },
      "execution_count": null,
      "outputs": []
    },
    {
      "cell_type": "markdown",
      "source": [
        "Como tenemos muchos nan vamos a comparar los valores nan con los valores de injury.severity para ver si se pudiesen completar"
      ],
      "metadata": {
        "id": "Hmjcpq5vDAGe"
      }
    },
    {
      "cell_type": "code",
      "source": [
        "# Filtrar filas donde \"Total.Fatal.Injuries\" es NaN\n",
        "nan_fatal_injuries = new_data_set[new_data_set[\"Total.Fatal.Injuries\"].isnull()]\n",
        "\n",
        "# Contar los valores de \"Injury.Severity\" en esas filas\n",
        "severity_for_nan_fatal = nan_fatal_injuries[\"Injury.Severity\"].value_counts(dropna=False)\n",
        "\n",
        "# Mostrar los resultados\n",
        "display(severity_for_nan_fatal.to_frame(name=\"Cantidad\"))\n"
      ],
      "metadata": {
        "id": "9FI2mSgOC9H7",
        "collapsed": true
      },
      "execution_count": null,
      "outputs": []
    },
    {
      "cell_type": "markdown",
      "source": [
        "Vemos que ma mayoria de los casos son non-fatal o incidente por lo que vamos a asumir que no hubo victimas morales y sustituiremos los nan por 0.\n",
        "Sin embargo en el caso de unavailable vamos a dejar los nan pues no disponemos de información."
      ],
      "metadata": {
        "id": "H24TwR6CD8W-"
      }
    },
    {
      "cell_type": "code",
      "source": [
        "# Reemplazar NaN en \"Total.Fatal.Injuries\" por 0 solo si \"Injury.Severity\" es \"Non-Fatal\" o \"Incident\"\n",
        "new_data_set.loc[new_data_set[\"Injury.Severity\"].isin([\"Non-Fatal\", \"Incident\"]), \"Total.Fatal.Injuries\"] = 0\n",
        "\n",
        "# Verificar los cambios\n",
        "print(new_data_set[\"Total.Fatal.Injuries\"].isnull().sum())  # Contar cuántos NaN quedan"
      ],
      "metadata": {
        "id": "0VaRaan_ETVN"
      },
      "execution_count": null,
      "outputs": []
    },
    {
      "cell_type": "markdown",
      "source": [
        "### Total.Serious.Injuries\n"
      ],
      "metadata": {
        "id": "4BjGbcX38lJr"
      }
    },
    {
      "cell_type": "code",
      "source": [
        "Serious_injuries_nans = new_data_set[\"Total.Serious.Injuries\"].isnull().sum()\n",
        "print(f\"NAn en 'Total.Serious.Injuries': {Serious_injuries_nans}\")"
      ],
      "metadata": {
        "id": "uQoTY0em8s2e"
      },
      "execution_count": null,
      "outputs": []
    },
    {
      "cell_type": "markdown",
      "source": [
        "Como tenemos muchos nan vamos a comparar los valores nan con los valores de injury.severity para ver si se pudiesen completar"
      ],
      "metadata": {
        "id": "bseCSpZ1EiYO"
      }
    },
    {
      "cell_type": "code",
      "source": [
        "# Filtrar filas donde \"Total.Serious.Injuries\" es NaN\n",
        "nan_serious_injuries = new_data_set[new_data_set[\"Total.Serious.Injuries\"].isnull()]\n",
        "\n",
        "# Contar los valores de \"Injury.Severity\" en esas filas\n",
        "severity_for_nan_serious = nan_serious_injuries[\"Injury.Severity\"].value_counts(dropna=False)\n",
        "\n",
        "# Mostrar los resultados\n",
        "display(severity_for_nan_serious.to_frame(name=\"Cantidad\"))"
      ],
      "metadata": {
        "id": "s_-MuXE-Ei0D",
        "collapsed": true
      },
      "execution_count": null,
      "outputs": []
    },
    {
      "cell_type": "markdown",
      "source": [
        "### Total.Minor.Injuries"
      ],
      "metadata": {
        "id": "1L6kccIw8omx"
      }
    },
    {
      "cell_type": "code",
      "source": [
        "minor_injuries_nans = new_data_set[\"Total.Minor.Injuries\"].isnull().sum()\n",
        "print(f\"NAn en 'Total.Minor.Injuries': {minor_injuries_nans}\")"
      ],
      "metadata": {
        "id": "dJpBhXvf8t67"
      },
      "execution_count": null,
      "outputs": []
    },
    {
      "cell_type": "code",
      "source": [
        "# Filtrar filas donde \"Total.Serious.Injuries\" es NaN\n",
        "nan_minor_injuries = new_data_set[new_data_set[\"Total.Minor.Injuries\"].isnull()]\n",
        "\n",
        "# Contar los valores de \"Injury.Severity\" en esas filas\n",
        "severity_for_nan_minor = nan_minor_injuries[\"Injury.Severity\"].value_counts(dropna=False)\n",
        "\n",
        "# Mostrar los resultados\n",
        "display(severity_for_nan_minor.to_frame(name=\"Cantidad\"))"
      ],
      "metadata": {
        "id": "oPJsQJCy8IpM",
        "collapsed": true
      },
      "execution_count": null,
      "outputs": []
    },
    {
      "cell_type": "markdown",
      "source": [
        "tanto en seriour como en minor sabemos que hay tanto accidentes fatales como no fatales como unknown pero no se puede saber que valor corresponde a los datos vacios ni se puede poner 0 pues desajustaría los datos por lo que trabajaremos con estos nan."
      ],
      "metadata": {
        "id": "4Gks3vqK8ab_"
      }
    },
    {
      "cell_type": "markdown",
      "source": [
        "##3.1. Análisis de Accidentes Aéreos en la Historia Reciente"
      ],
      "metadata": {
        "id": "G5FLceJ7xneC"
      }
    },
    {
      "cell_type": "markdown",
      "source": [
        "###1- Cuestiones generales"
      ],
      "metadata": {
        "id": "th2WFSA3yMiM"
      }
    },
    {
      "cell_type": "markdown",
      "source": [
        "¿Cómo ha evolucionado el número de accidentes y fatalidades?"
      ],
      "metadata": {
        "id": "5eQ2-BpQyUtV"
      }
    },
    {
      "cell_type": "markdown",
      "source": [
        "¿Cuáles son los 5 países con más accidentes? Y ¿los 5 países con más víctimas mortales?"
      ],
      "metadata": {
        "id": "Guy0_BZ2yVzh"
      }
    },
    {
      "cell_type": "markdown",
      "source": [
        "¿Podemos identificar si la aviación es más segura hoy en día en comparación con décadas pasadas?"
      ],
      "metadata": {
        "id": "K-Mhhb4-ybnF"
      }
    },
    {
      "cell_type": "markdown",
      "source": [
        "Justifica las visualizaciones elegidas para soportar las conclusiones en tu informe."
      ],
      "metadata": {
        "id": "KljV1G6JygFe"
      }
    },
    {
      "cell_type": "markdown",
      "source": [
        "###2- Causas de los accidentes"
      ],
      "metadata": {
        "id": "peP0wPfpymWT"
      }
    },
    {
      "cell_type": "markdown",
      "source": [
        "¿Las condiciones meteorológicas influyen en la gravedad de los accidentes? ¿Los accidentes fatales son más\n",
        "frecuentes en condiciones adversas (IMC, vuelo instrumental) o en buen clima (VMC, vuelo visual)?"
      ],
      "metadata": {
        "id": "a4gOG9jkzIDM"
      }
    },
    {
      "cell_type": "code",
      "source": [
        "import matplotlib.pyplot as plt\n",
        "import seaborn as sns\n",
        "\n",
        "# Contar los accidentes por tipo de clima y severidad\n",
        "weather_severity_counts = new_data_set.groupby(['Weather.Condition', 'Injury.Severity']).size().unstack()\n",
        "\n",
        "# Crear gráfico de barras\n",
        "weather_severity_counts.plot(kind='bar', figsize=(8, 5), colormap='coolwarm')\n",
        "\n",
        "# Personalización del gráfico\n",
        "plt.title('Accidentes fatales según las condiciones meteorológicas')\n",
        "plt.xlabel('Condición Meteorológica')\n",
        "plt.ylabel('Número de accidentes')\n",
        "plt.xticks(rotation=0)\n",
        "plt.legend(title='Gravedad del accidente')\n",
        "plt.show()"
      ],
      "metadata": {
        "id": "OI1kbT_hnyTH"
      },
      "execution_count": null,
      "outputs": []
    },
    {
      "cell_type": "markdown",
      "source": [
        "Genera gráficos que ayuden a interpretar cómo la meteorología afecta los accidentes"
      ],
      "metadata": {
        "id": "UXS1pvapzK2b"
      }
    },
    {
      "cell_type": "markdown",
      "source": [
        "¿En qué fase del vuelo ocurren más accidentes morales? Y, por lo tanto, ¿Qué fase tiene más riesgo el\n",
        "despegue, el aterrizaje o el crucero?"
      ],
      "metadata": {
        "id": "pmo7_gUyzND5"
      }
    },
    {
      "cell_type": "markdown",
      "source": [
        "Genera un gráfico que muestre la distribución de accidentes fatales por fase del vuelo."
      ],
      "metadata": {
        "id": "P8Sq_CuOzd9h"
      }
    },
    {
      "cell_type": "markdown",
      "source": [
        "¿Los accidentes en tierra (Taxi, Standing) son realmente menos peligrosos que en el aire?"
      ],
      "metadata": {
        "id": "CZC4upBKz07q"
      }
    },
    {
      "cell_type": "markdown",
      "source": [
        "¿Las aeronaves no comerciales (Amateur Built) tienen una mayor proporción de accidentes en comparación\n",
        "con las comerciales?"
      ],
      "metadata": {
        "id": "olgpWTtEz2qZ"
      }
    },
    {
      "cell_type": "markdown",
      "source": [
        "###3- Comparación de la evolución"
      ],
      "metadata": {
        "id": "0NdM8_T-z5AX"
      }
    },
    {
      "cell_type": "markdown",
      "source": [
        "¿Cómo ha evolucionado el número de accidentes en EEUU a lo largo de los años? ¿Y el número de víctimas mortales?"
      ],
      "metadata": {
        "id": "qXSCL_lYz9_T"
      }
    },
    {
      "cell_type": "markdown",
      "source": [
        "Compáralo con Brasil, México y Reino Unido ¿existe la misma tendencia en estos países en cuanto al número\n",
        "de incidentes? ¿Y a las víctimas fatales?"
      ],
      "metadata": {
        "id": "dTsRJoZm0E55"
      }
    },
    {
      "cell_type": "markdown",
      "source": [
        "##3.2. Análisis de la felicidad por reducción de la dimensionalidad"
      ],
      "metadata": {
        "id": "6oSyfMPC0HZL"
      }
    },
    {
      "cell_type": "markdown",
      "source": [
        "###1- Aplica el método de PCA y responde a las preguntas"
      ],
      "metadata": {
        "id": "AalEXb-w0Xmn"
      }
    },
    {
      "cell_type": "markdown",
      "source": [
        "¿Cuántas componentes principales debemos utilizar para tener más de un 80% de la variabilidad explicada?\n",
        "Justifica tu respuesta."
      ],
      "metadata": {
        "id": "pymPw0gb0bJl"
      }
    },
    {
      "cell_type": "markdown",
      "source": [
        "¿Cuánta información perdemos si nos quedamos con 2 componentes? ¿Cuánta información representamos\n",
        "con 3 componentes? Justifica tus respuestas."
      ],
      "metadata": {
        "id": "coKBh2j20gUZ"
      }
    },
    {
      "cell_type": "markdown",
      "source": [
        "###2- Selecciona 3 componentes principales y haz una representación gráfica"
      ],
      "metadata": {
        "id": "KXdlbaK-0i0Y"
      }
    },
    {
      "cell_type": "markdown",
      "source": [
        "Obtén una representación de las tres primeras componentes. Explica lo que significan y cómo se relacionan\n",
        "con los atributos originales"
      ],
      "metadata": {
        "id": "1dcbYfC50vHf"
      }
    },
    {
      "cell_type": "markdown",
      "source": [
        "Por último, elige 2 países y explica lo que ocurre con ellos según sus componentes principales. Contrasta las\n",
        "hipótesis con los datos originales"
      ],
      "metadata": {
        "id": "dXBpA2pc0vnb"
      }
    }
  ]
}