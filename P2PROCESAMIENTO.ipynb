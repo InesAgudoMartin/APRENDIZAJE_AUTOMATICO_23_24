{
  "nbformat": 4,
  "nbformat_minor": 0,
  "metadata": {
    "colab": {
      "provenance": [],
      "authorship_tag": "ABX9TyNwMmoN8xEux9ghgwb3v0s+",
      "include_colab_link": true
    },
    "kernelspec": {
      "name": "python3",
      "display_name": "Python 3"
    },
    "language_info": {
      "name": "python"
    }
  },
  "cells": [
    {
      "cell_type": "markdown",
      "metadata": {
        "id": "view-in-github",
        "colab_type": "text"
      },
      "source": [
        "<a href=\"https://colab.research.google.com/github/InesAgudoMartin/APRENDIZAJE_AUTOMATICO_23_24/blob/main/P2PROCESAMIENTO.ipynb\" target=\"_parent\"><img src=\"https://colab.research.google.com/assets/colab-badge.svg\" alt=\"Open In Colab\"/></a>"
      ]
    },
    {
      "cell_type": "markdown",
      "source": [
        "### PREPARACIÓN DEL VÍDEO"
      ],
      "metadata": {
        "id": "Uhs-4nuAO7fc"
      }
    },
    {
      "cell_type": "code",
      "execution_count": null,
      "metadata": {
        "id": "onNhYPMyO5Ms"
      },
      "outputs": [],
      "source": [
        "from google.colab import files\n",
        "uploaded = files.upload()\n",
        "import cv2\n",
        "\n",
        "# Ruta del archivo subido (ajusta el nombre si es necesario)\n",
        "video_path = '6640000-hd_1920_1080_25fps.mp4'\n",
        "\n",
        "# Cargar el video\n",
        "cap = cv2.VideoCapture(video_path)"
      ]
    },
    {
      "cell_type": "code",
      "source": [
        "# Verificar las propiedades del segundo video cargado\n",
        "video_path_2 = \"/mnt/data/6640000-hd_1920_1080_25fps.mp4\"\n",
        "\n",
        "# Abrir el video para análisis\n",
        "video_2 = cv2.VideoCapture(video_path_2)\n",
        "\n",
        "# Verificar si se pudo abrir correctamente\n",
        "if video_2.isOpened():\n",
        "    # Obtener propiedades del video\n",
        "    formato_valido_2 = video_path_2.endswith('.mp4')\n",
        "    duracion_2 = int(video_2.get(cv2.CAP_PROP_FRAME_COUNT) / video_2.get(cv2.CAP_PROP_FPS))\n",
        "    fps_2 = video_2.get(cv2.CAP_PROP_FPS)\n",
        "    ancho_2 = int(video_2.get(cv2.CAP_PROP_FRAME_WIDTH))\n",
        "    alto_2 = int(video_2.get(cv2.CAP_PROP_FRAME_HEIGHT))\n",
        "    propiedades_2 = {\n",
        "        \"Formato MP4\": formato_valido_2,\n",
        "        \"Duración (segundos)\": duracion_2,\n",
        "        \"FPS\": fps_2,\n",
        "        \"Resolución\": f\"{ancho_2}x{alto_2}\"\n",
        "    }\n",
        "else:\n",
        "    propiedades_2 = {\"Error\": \"No se pudo abrir el video\"}\n",
        "\n",
        "video_2.release()\n",
        "propiedades_2"
      ],
      "metadata": {
        "id": "L04iqESrRhNB"
      },
      "execution_count": null,
      "outputs": []
    },
    {
      "cell_type": "markdown",
      "source": [
        "### CONFIGURACIÓN ENTORNO PYTHON"
      ],
      "metadata": {
        "id": "DAAQTYDJPC3d"
      }
    },
    {
      "cell_type": "code",
      "source": [],
      "metadata": {
        "id": "MHxTnUtmPF2-"
      },
      "execution_count": null,
      "outputs": []
    },
    {
      "cell_type": "markdown",
      "source": [
        "### IMPLEMENTACIÓN INTERFAZ USUARIO"
      ],
      "metadata": {
        "id": "YRmtA5AyPGJm"
      }
    },
    {
      "cell_type": "code",
      "source": [],
      "metadata": {
        "id": "JlXk6KDNPJf6"
      },
      "execution_count": null,
      "outputs": []
    },
    {
      "cell_type": "markdown",
      "source": [
        "### APLICACIÓN TÉCNICAS PROCESAMIENTO"
      ],
      "metadata": {
        "id": "RH9TXmbSPJuS"
      }
    },
    {
      "cell_type": "code",
      "source": [],
      "metadata": {
        "id": "vKATTQi3PM2F"
      },
      "execution_count": null,
      "outputs": []
    },
    {
      "cell_type": "markdown",
      "source": [
        "### CONTADOR DE PERSONAS"
      ],
      "metadata": {
        "id": "6TE18f1nPNBV"
      }
    },
    {
      "cell_type": "code",
      "source": [],
      "metadata": {
        "id": "Nt1ddJ_RPRD5"
      },
      "execution_count": null,
      "outputs": []
    },
    {
      "cell_type": "markdown",
      "source": [
        "VISUALIZACIÓN Y EXPORTACIÓN RESULTADOS"
      ],
      "metadata": {
        "id": "k9I0vRcQPRP2"
      }
    }
  ]
}