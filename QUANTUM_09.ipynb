{
  "nbformat": 4,
  "nbformat_minor": 0,
  "metadata": {
    "colab": {
      "provenance": [],
      "authorship_tag": "ABX9TyPbZkRJUFYkvZ/NMAtKJ7nF",
      "include_colab_link": true
    },
    "kernelspec": {
      "name": "python3",
      "display_name": "Python 3"
    },
    "language_info": {
      "name": "python"
    }
  },
  "cells": [
    {
      "cell_type": "markdown",
      "metadata": {
        "id": "view-in-github",
        "colab_type": "text"
      },
      "source": [
        "<a href=\"https://colab.research.google.com/github/InesAgudoMartin/APRENDIZAJE_AUTOMATICO_23_24/blob/main/QUANTUM_09.ipynb\" target=\"_parent\"><img src=\"https://colab.research.google.com/assets/colab-badge.svg\" alt=\"Open In Colab\"/></a>"
      ]
    },
    {
      "cell_type": "markdown",
      "source": [
        "### Objective\n",
        "We will put the class together in order to implement Grover with a really simple oracle.\n",
        "\n",
        "- In class: 2 Qubit Grover\n",
        "    1. From the |00> state to the |s> state\n",
        "    2. Building the Phase Oracle and reflecting over |w perp>\n",
        "    3. Building the Diffusion Operator and reflecting over |s>\n",
        "- Homework: 3 Qubit Grover"
      ],
      "metadata": {
        "id": "AVKHv8dSsr2c"
      }
    },
    {
      "cell_type": "markdown",
      "source": [
        "### 0. From the |00> state to the |s> state\n",
        "Now, this is not a follow along notebook, by this point, you should be able to create quantum circuits and change their states.\n",
        "\n",
        "You now must create a 2 qubit, 2 bit quantum circuit, and create the perfect superposition state |s>."
      ],
      "metadata": {
        "id": "dqcl6FlyswvG"
      }
    },
    {
      "cell_type": "code",
      "execution_count": null,
      "metadata": {
        "id": "2bPtyFZisq72"
      },
      "outputs": [],
      "source": [
        "from qiskit import QuantumCircuit\n",
        "#circuito con 2 qubits\n",
        "qc=QuantumCircuit(2)\n",
        "#aplicamos hadamard al primer qubit que hace una superposicion convirtiendo el estado 0 al 1\n",
        "qc.h(0)\n",
        "#aplicamos hadamard al siguente qubit\n",
        "qc.h(1)\n",
        "#barra para separar secciones del circuito\n",
        "qc.barrier()\n",
        "#lo mostramos\n",
        "qc.draw('mpl')"
      ]
    },
    {
      "cell_type": "markdown",
      "source": [
        "1. Building the Phase Oracle and reflecting over |w perp>\n",
        "\n",
        "Now our task is to create a Phase Oracle that will mark the |10> state. This means that it should change the phase of that state, and no other.\n",
        "\n",
        "You can verify your statevector with the following piece of code:\n",
        "\n",
        "---\n",
        "```python\n",
        "from qiskit import quantum_info\n",
        "from qiskit.visualization import array_to_latex\n",
        "\n",
        "initial_state = quantum_info.Statevector.from_instruction(qc) # <<< your QC there\n",
        "array_to_latex(initial_state.data.reshape((-1,1)), prefix=\"|\\\\psi\\\\rangle =\")\n",
        "```\n",
        "---\n",
        "\n",
        "\n",
        "If you have applied the gates correctly, that means that you have already performed the reflection over |w perp>, congratulations."
      ],
      "metadata": {
        "id": "TVu0YFoBtryq"
      }
    },
    {
      "cell_type": "code",
      "source": [
        "#puerta CZ: puerta de dos qubits que aplica una operación Z al segundo qubit (objetivo) solo si el primer qubit (control) está en el estado 1\n",
        "#Si el qubit 0 está en el estado 1, entonces se aplica una puerta Z al qubit 1. De lo contrario, el qubit 1 permanece sin cambios.\n",
        "qc.cz(0,1)\n",
        "#aplicamos puerta Z al segundo qubit\n",
        "#cambia la fase del qubit 1 si está en el estado 1, transformando 1> en -1> en. Si el qubit está en el estado 0 no cambia\n",
        "qc.z(1)\n",
        "qc.barrier()\n",
        "qc.draw('mpl')"
      ],
      "metadata": {
        "id": "-QzjoVGlt29i"
      },
      "execution_count": null,
      "outputs": []
    },
    {
      "cell_type": "code",
      "source": [
        "#permite ver el estado cuantico qc en forma matematica\n",
        "\n",
        "from qiskit import quantum_info\n",
        "from qiskit.visualization import array_to_latex\n",
        "#creamos vector de estado inicial\n",
        "#creamos vector de estado a partir del circuito qc\n",
        "initial_state = quantum_info.Statevector.from_instruction(qc) # <<< your QC there\n",
        "#visualizar vector en formato latex\n",
        "array_to_latex(initial_state.data.reshape((-1,1)), prefix=\"|\\\\psi\\\\rangle =\")"
      ],
      "metadata": {
        "id": "wkeWlu_Kt6ua"
      },
      "execution_count": null,
      "outputs": []
    },
    {
      "cell_type": "markdown",
      "source": [
        "# 2. Building the Diffusion Operator and reflecting over |s>\n",
        "\n",
        "Now, the last thing we need to do in order to implement grover is to reflect our quantum state over the |s> state.\n",
        "\n",
        "**We do that using the diffusion operator.**\n",
        "\n",
        "In order to code this operator, as we are working in the Z Basis, we need to follow these steps:\n",
        " 1. Change the basis of our qubits from the X basis (superposition basis) into the Z basis\n",
        " 2. Apply a reflection over |0> (or |00> in our case), which is the equivalent of |s> in the Z basis\n",
        " 3. Return our values to the X basis"
      ],
      "metadata": {
        "id": "_UWG7jgXuh2K"
      }
    },
    {
      "cell_type": "markdown",
      "source": [
        "Some tips:\n",
        "- The hadamard gate changes from the X basis to the Z basis and viceversa.\n",
        "- A reflection is an operation that changes the sign of every perpendicular vector to our axis, except our basis vector which is left as before"
      ],
      "metadata": {
        "id": "TuMs6pXguk1Y"
      }
    },
    {
      "cell_type": "markdown",
      "source": [
        "CONSTRUIR OPERADOR DE DIFUSION Y REFLEJAR SOBRE EL ESTADO S> PARA IMPLEMENTAR GROVER"
      ],
      "metadata": {
        "id": "NDu-1EKivnh1"
      }
    },
    {
      "cell_type": "code",
      "source": [
        "#aplicamos hadamard a los qubits para cambiar de base Z a base X\n",
        "#Las puertas Hadamard transforman los qubits de la base de superposición (X) a la base computacional (Z)\n",
        "qc.h(0)\n",
        "qc.h(1)\n",
        "\n",
        "#alicar reflexion sobre 00>\n",
        "qc.cz(0,1) #puerta cz entre los dos qubits\n",
        "#aplicamos puerta z a cada qubit cambiando su fase\n",
        "qc.z(0)\n",
        "qc.z(1)\n",
        "#devolver nuestros valores a la base x: las puertas hadamard vuelven a transformar la base Z a la base X\n",
        "qc.h(0)\n",
        "qc.h(1)\n",
        "#barrera: Etiqueta la barrera para indicar que esta sección representa el operador de difusión seguido del operador de fase\n",
        "qc.barrier(label=\"U_s U_w|s>\")\n",
        "qc.draw('mpl')"
      ],
      "metadata": {
        "id": "1fu6BwGfunWJ"
      },
      "execution_count": null,
      "outputs": []
    },
    {
      "cell_type": "markdown",
      "source": [
        "Running our circuit"
      ],
      "metadata": {
        "id": "ODmuYnBbutw-"
      }
    },
    {
      "cell_type": "code",
      "source": [
        "# Simulate your circuit to see if the circuit works\n",
        "from qiskit_ibm_runtime import QiskitRuntimeService, Sampler, Session\n",
        "\n",
        "#qc.measure(0,0)\n",
        "#qc.measure(1, 1)\n",
        "qc.measure_all() #mide todos los qubits del circuito\n",
        "service = QiskitRuntimeService() #inicializa el servicio\n",
        "backend_simulator = service.get_backend('ibmq_qasm_simulator')# Get your backend here, simulador\n",
        "\n",
        "#### YOUR CODE TO LAUNCH THE CIRCUIT HERE\n",
        "#ejecuatar el circuito en el simulador\n",
        "with Session(service=service, backend=backend_simulator) as session:\n",
        "    sampler = Sampler(session=session)\n",
        "    job = sampler.run(circuits=qc)\n",
        "    print(job.result())\n",
        "from qiskit.visualization import plot_histogram\n",
        "plot_histogram(job.result().quasi_dists[0])\n",
        "#muestra circuito e histograma\n",
        "display(qc.draw('mpl'),plot_histogram(job.result().quasi_dists[0]))"
      ],
      "metadata": {
        "id": "pzaWAYNFuwI-"
      },
      "execution_count": null,
      "outputs": []
    },
    {
      "cell_type": "markdown",
      "source": [
        "#RESUMEN CÓDIGO Y PASOS REALIZADOS\n",
        "Objetivo\n",
        "Implementar el algoritmo de Grover utilizando un oráculo simple en Qiskit, comenzando con un circuito de 2 qubits y luego extendiéndolo a 3 qubits.\n",
        "\n",
        "####Pasos Generales Realizados:\n",
        "\n",
        "###Creación del Circuito Cuántico con 2 Qubits:\n",
        "\n",
        "Se crea un circuito cuántico con 2 qubits y se aplica la puerta Hadamard a cada qubit para ponerlos en un estado de superposición perfecta ∣𝑠>\n",
        "\n",
        "###Construcción del Oráculo de Fase y Reflexión sobre ∣𝑤⊥>\n",
        "\n",
        "Se implementa un oráculo que marca el estado ∣10> aplicando una puerta CZ seguida de una puerta Z al segundo qubit.\n",
        "\n",
        "Se verifica el vector de estado resultante para asegurar que la operación se ha realizado correctamente.\n",
        "\n",
        "###Construcción del Operador de Difusión y Reflexión sobre ∣𝑠>:\n",
        "\n",
        "Se cambia la base de los qubits de X a Z aplicando puertas Hadamard.\n",
        "\n",
        "Se aplica una reflexión sobre el estado ∣00> usando puertas CZ y Z.\n",
        "\n",
        "Se devuelve la base de los qubits a X aplicando nuevamente puertas Hadamard.\n",
        "\n",
        "Se añade una barrera para visualizar la separación de secciones en el circuito.\n",
        "\n",
        "\n",
        "###Simulación del Circuito:\n",
        "Se añaden mediciones a todos los qubits del circuito.\n",
        "\n",
        "Se inicializa el servicio de Qiskit Runtime y se selecciona el backend del simulador.\n",
        "\n",
        "Se ejecuta el circuito en el simulador y se obtienen los resultados.\n",
        "\n",
        "Se visualiza el circuito y los resultados de la simulación en forma de histograma."
      ],
      "metadata": {
        "id": "kqN1XPcozN_c"
      }
    }
  ]
}