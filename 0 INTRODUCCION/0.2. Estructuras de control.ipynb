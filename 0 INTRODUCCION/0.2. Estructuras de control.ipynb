{
  "cells": [
    {
      "cell_type": "markdown",
      "metadata": {
        "id": "view-in-github",
        "colab_type": "text"
      },
      "source": [
        "<a href=\"https://colab.research.google.com/github/InesAgudoMartin/APRENDIZAJE_AUTOMATICO_23_24/blob/main/0%20INTRODUCCION/0.2.%20Estructuras%20de%20control.ipynb\" target=\"_parent\"><img src=\"https://colab.research.google.com/assets/colab-badge.svg\" alt=\"Open In Colab\"/></a>"
      ]
    },
    {
      "cell_type": "code",
      "execution_count": null,
      "metadata": {
        "pycharm": {
          "name": "#%%\n"
        },
        "id": "ernuRavfc8K-",
        "outputId": "f0350451-d249-469f-d719-f8e508be7381"
      },
      "outputs": [
        {
          "name": "stdout",
          "output_type": "stream",
          "text": [
            "x es menor\n"
          ]
        }
      ],
      "source": [
        "x=2\n",
        "y=4\n",
        "if x<y:\n",
        "    print (\"x es menor\")"
      ]
    },
    {
      "cell_type": "code",
      "execution_count": null,
      "metadata": {
        "pycharm": {
          "name": "#%%\n"
        },
        "id": "lfkx5-6Kc8K_",
        "outputId": "c193358a-3e63-4e60-91a5-83b92c2460e7"
      },
      "outputs": [
        {
          "name": "stdout",
          "output_type": "stream",
          "text": [
            "x es mayor\n"
          ]
        }
      ],
      "source": [
        "x=4\n",
        "y=2\n",
        "if x<y:\n",
        "    print (\"x es menor\")\n",
        "elif x>y:\n",
        "    print (\"x es mayor\")"
      ]
    },
    {
      "cell_type": "code",
      "execution_count": null,
      "metadata": {
        "pycharm": {
          "name": "#%%\n"
        },
        "id": "rG42yjWgc8K_",
        "outputId": "d2178fc2-9822-432a-aa7b-03b8b7209f1e"
      },
      "outputs": [
        {
          "name": "stdout",
          "output_type": "stream",
          "text": [
            "son iguales\n"
          ]
        }
      ],
      "source": [
        "x=2\n",
        "y=2\n",
        "if x<y:\n",
        "    print (\"x es menor\")\n",
        "elif x>y:\n",
        "    print (\"x es mayor\")\n",
        "else:\n",
        "    print (\"son iguales\")"
      ]
    },
    {
      "cell_type": "code",
      "execution_count": null,
      "metadata": {
        "pycharm": {
          "name": "#%%\n"
        },
        "id": "JYejh9kJc8K_"
      },
      "outputs": [],
      "source": [
        "def comparador(x,y):\n",
        "    if x<y:\n",
        "        print (\"x es menor\")\n",
        "    elif x>y:\n",
        "        print (\"x es mayor\")\n",
        "    else:\n",
        "        print (\"son iguales\")"
      ]
    },
    {
      "cell_type": "code",
      "execution_count": null,
      "metadata": {
        "pycharm": {
          "name": "#%%\n"
        },
        "id": "web7vFGPc8K_",
        "outputId": "2e04cbf7-6e7c-441c-cdbe-b79058844ef9"
      },
      "outputs": [
        {
          "name": "stdout",
          "output_type": "stream",
          "text": [
            "x es menor\n"
          ]
        }
      ],
      "source": [
        "comparador(2,4)"
      ]
    },
    {
      "cell_type": "code",
      "execution_count": null,
      "metadata": {
        "pycharm": {
          "name": "#%%\n"
        },
        "id": "puA-G13tc8LA",
        "outputId": "4ab6d324-6a07-4dfd-c610-23dfa80ab349"
      },
      "outputs": [
        {
          "name": "stdout",
          "output_type": "stream",
          "text": [
            "x es mayor\n"
          ]
        }
      ],
      "source": [
        "comparador(3.4,1.2)"
      ]
    },
    {
      "cell_type": "code",
      "execution_count": null,
      "metadata": {
        "pycharm": {
          "name": "#%%\n"
        },
        "id": "piVDflM8c8LA",
        "outputId": "3b443cff-2e17-423d-ab2a-39cbb6cefac0"
      },
      "outputs": [
        {
          "name": "stdout",
          "output_type": "stream",
          "text": [
            "0\n",
            "1\n",
            "2\n",
            "3\n",
            "4\n",
            "5\n",
            "6\n",
            "7\n",
            "8\n",
            "9\n"
          ]
        }
      ],
      "source": [
        "#Reseñar la posibilidad de bucle infinito\n",
        "i=0\n",
        "while i<10:\n",
        "    print (i)\n",
        "    i+=1"
      ]
    },
    {
      "cell_type": "code",
      "execution_count": null,
      "metadata": {
        "pycharm": {
          "name": "#%%\n"
        },
        "id": "EWrW3hV2c8LA",
        "outputId": "a5ab4aa6-d52e-4571-9759-10f9e95a1d30"
      },
      "outputs": [
        {
          "name": "stdout",
          "output_type": "stream",
          "text": [
            "0\n",
            "1\n",
            "2\n",
            "3\n",
            "4\n",
            "5\n",
            "6\n",
            "7\n",
            "8\n",
            "9\n"
          ]
        }
      ],
      "source": [
        "for i in range(0,10):\n",
        "    print (i)"
      ]
    },
    {
      "cell_type": "code",
      "execution_count": null,
      "metadata": {
        "pycharm": {
          "name": "#%%\n"
        },
        "id": "GkU5qAp6c8LA",
        "outputId": "3f24cbd3-b867-4717-b6ef-39dd2725f8cf"
      },
      "outputs": [
        {
          "name": "stdout",
          "output_type": "stream",
          "text": [
            "i\n",
            "P\n",
            "y\n",
            "t\n",
            "h\n",
            "o\n",
            "n\n"
          ]
        }
      ],
      "source": [
        "for i in \"iPython\":\n",
        "    print (i)"
      ]
    },
    {
      "cell_type": "code",
      "execution_count": null,
      "metadata": {
        "pycharm": {
          "name": "#%%\n"
        },
        "id": "mx7hAypdc8LA",
        "outputId": "920e644b-d377-41c6-b9ad-39fbc758ef83"
      },
      "outputs": [
        {
          "name": "stdout",
          "output_type": "stream",
          "text": [
            "Curso\n",
            "de\n",
            "iPtyhon\n"
          ]
        }
      ],
      "source": [
        "for i in \"Curso\",\"de\",\"iPtyhon\":\n",
        "    print (i)"
      ]
    },
    {
      "cell_type": "code",
      "execution_count": null,
      "metadata": {
        "pycharm": {
          "name": "#%%\n"
        },
        "id": "vdYTOZJrc8LA",
        "outputId": "b2edc917-5857-4d5a-d397-1f35fb1bd4c7"
      },
      "outputs": [
        {
          "name": "stdout",
          "output_type": "stream",
          "text": [
            "0\n",
            "1\n",
            "2\n",
            "3\n",
            "4\n"
          ]
        }
      ],
      "source": [
        "for i in range(0,10):\n",
        "    print (i)\n",
        "    if i==4:\n",
        "        break"
      ]
    },
    {
      "cell_type": "code",
      "execution_count": null,
      "metadata": {
        "pycharm": {
          "name": "#%%\n"
        },
        "id": "JP9mR6-sc8LA",
        "outputId": "a75df3fc-f17d-42ce-a074-726b6bc103e5"
      },
      "outputs": [
        {
          "name": "stdout",
          "output_type": "stream",
          "text": [
            "1 es impar\n",
            "2 es par\n",
            "3 es impar\n",
            "4 es par\n",
            "5 es impar\n",
            "6 es par\n",
            "7 es impar\n",
            "8 es par\n",
            "9 es impar\n",
            "10 es par\n"
          ]
        }
      ],
      "source": [
        "i=1\n",
        "while i<=10:\n",
        "    if i%2==0:\n",
        "        print (str(i)+\" es par\")\n",
        "    else:\n",
        "        print (str(i)+\" es impar\")\n",
        "    i+=1"
      ]
    },
    {
      "cell_type": "markdown",
      "source": [
        "## PROBLEMAS"
      ],
      "metadata": {
        "id": "oqAIQOQSdITs"
      }
    },
    {
      "cell_type": "markdown",
      "source": [
        "1. Escribe una función **invertir_lista** que tome una lista como argumento y devuelva una nueva lista que contiene los elementos de la lista original en orden inverso. No se permite utilizar la función incorporada **reverse()** o la notación de slice **[::-1]**"
      ],
      "metadata": {
        "id": "zO5dbzdidXsD"
      }
    },
    {
      "cell_type": "code",
      "source": [
        "def invertir_lista(lista):\n",
        "  # PROGRAMAR AQUÍ EL CÓDIGO DE LA FUNCIÓNdef invertir_lista(lista):\n",
        "    inverted = []\n",
        "    for elemento in lista:\n",
        "        # Agregar cada elemento al principio de la nueva lista\n",
        "        inverted.insert(0, elemento)\n",
        "    return inverted\n",
        "mi_lista = [1, 2, 3, 4, 5]\n",
        "lista_invertida = invertir_lista(mi_lista)\n",
        "print(lista_invertida)\n",
        "\n",
        "\n",
        "# Pruebas\n",
        "assert invertir_lista([1, 2, 3]) == [3, 2, 1]\n",
        "assert invertir_lista([\"a\", \"b\", \"c\"]) == [\"c\", \"b\", \"a\"]\n",
        "assert invertir_lista([]) == []\n",
        "assert invertir_lista([1]) == [1]"
      ],
      "metadata": {
        "id": "RLk0hOVfdgXQ",
        "outputId": "1da2ea1c-e5b5-4f7a-eb18-305092ede02a",
        "colab": {
          "base_uri": "https://localhost:8080/"
        }
      },
      "execution_count": 1,
      "outputs": [
        {
          "output_type": "stream",
          "name": "stdout",
          "text": [
            "[5, 4, 3, 2, 1]\n"
          ]
        }
      ]
    },
    {
      "cell_type": "markdown",
      "source": [
        "2. Escribe una función **contar_ocurrencias** que tome una lista y un elemento como argumentos. La función debe devolver el número de veces que aparece el elemento en la lista."
      ],
      "metadata": {
        "id": "5Ni2M3Bbd5MH"
      }
    },
    {
      "cell_type": "code",
      "source": [
        "def contar_ocurrencias(lista, elemento):\n",
        "  # PROGRAMAR AQUÍ EL CÓDIGO DE LA FUNCIÓN\n",
        "    contador = 0\n",
        "    for item in lista:\n",
        "        if item == elemento:\n",
        "            contador += 1\n",
        "    return contador\n",
        "\n",
        "# Ejemplo de uso:\n",
        "mi_lista = [1, 2, 2, 3, 4, 2, 5, 2]\n",
        "elemento_a_contar = 2\n",
        "\n",
        "resultado = contar_ocurrencias(mi_lista, elemento_a_contar)\n",
        "print(f\"El elemento {elemento_a_contar} aparece {resultado} veces en la lista.\")\n",
        "\n",
        "# Pruebas\n",
        "assert contar_ocurrencias([1, 2, 3, 4, 1, 2, 1], 1) == 3\n",
        "assert contar_ocurrencias([\"a\", \"b\", \"a\"], \"a\") == 2\n",
        "assert contar_ocurrencias([], \"a\") == 0\n",
        "assert contar_ocurrencias([1, 2, 3], 4) == 0"
      ],
      "metadata": {
        "id": "BYKPPL92eCT6",
        "outputId": "d41c59d2-3297-49d8-b2ab-5081c228e59e",
        "colab": {
          "base_uri": "https://localhost:8080/"
        }
      },
      "execution_count": 4,
      "outputs": [
        {
          "output_type": "stream",
          "name": "stdout",
          "text": [
            "El elemento 2 aparece 4 veces en la lista.\n"
          ]
        }
      ]
    },
    {
      "cell_type": "markdown",
      "source": [
        "3. Escribe una función **es_palindromo** que tome una cadena como argumento y devuelva **True** si la cadena es un palíndromo (se lee igual de izquierda a derecha que de derecha a izquierda) o **False** si no lo es. Ignora las diferencias entre mayúsculas y minúsculas"
      ],
      "metadata": {
        "id": "N2dIncYAeYkb"
      }
    },
    {
      "cell_type": "code",
      "source": [
        "def es_palindromo(cadena):\n",
        "  # PROGRAMAR AQUÍ EL CÓDIGO DE LA FUNCIÓN\n",
        "    # Convertir la cadena a minúsculas y eliminar los espacios en blanco\n",
        "    cadena = cadena.lower().replace(\" \", \"\")\n",
        "    # Verificar si la cadena es igual a su inversa\n",
        "    return cadena == cadena[::-1]\n",
        "\n",
        "# Ejemplo de uso:\n",
        "cadena = \"Anita lava la tina\"\n",
        "resultado = es_palindromo(cadena)\n",
        "\n",
        "if resultado:\n",
        "    print(f\"'{cadena}' es un palíndromo.\")\n",
        "else:\n",
        "    print(f\"'{cadena}' no es un palíndromo.\")\n",
        "\n",
        "\n",
        "# Pruebas\n",
        "assert es_palindromo(\"Anilina\") == True\n",
        "assert es_palindromo(\"Radar\") == True\n",
        "assert es_palindromo(\"Python\") == False\n",
        "assert es_palindromo(\"a\") == True"
      ],
      "metadata": {
        "id": "Tlv5CnzKek2s",
        "outputId": "b65601a1-5380-4f21-fe69-a69ae3b5e9d0",
        "colab": {
          "base_uri": "https://localhost:8080/"
        }
      },
      "execution_count": 5,
      "outputs": [
        {
          "output_type": "stream",
          "name": "stdout",
          "text": [
            "'Anita lava la tina' es un palíndromo.\n"
          ]
        }
      ]
    }
  ],
  "metadata": {
    "kernelspec": {
      "display_name": "Python 3",
      "language": "python",
      "name": "python3"
    },
    "language_info": {
      "codemirror_mode": {
        "name": "ipython",
        "version": 3
      },
      "file_extension": ".py",
      "mimetype": "text/x-python",
      "name": "python",
      "nbconvert_exporter": "python",
      "pygments_lexer": "ipython3",
      "version": "3.6.5"
    },
    "colab": {
      "provenance": [],
      "include_colab_link": true
    }
  },
  "nbformat": 4,
  "nbformat_minor": 0
}