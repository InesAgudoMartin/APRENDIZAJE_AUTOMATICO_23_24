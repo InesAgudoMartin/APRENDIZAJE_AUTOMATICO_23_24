{
  "nbformat": 4,
  "nbformat_minor": 0,
  "metadata": {
    "colab": {
      "provenance": [],
      "authorship_tag": "ABX9TyPnxImVFqZf8sV5NZrji5FI",
      "include_colab_link": true
    },
    "kernelspec": {
      "name": "python3",
      "display_name": "Python 3"
    },
    "language_info": {
      "name": "python"
    }
  },
  "cells": [
    {
      "cell_type": "markdown",
      "metadata": {
        "id": "view-in-github",
        "colab_type": "text"
      },
      "source": [
        "<a href=\"https://colab.research.google.com/github/InesAgudoMartin/APRENDIZAJE_AUTOMATICO_23_24/blob/main/CLASE2_EDA.ipynb\" target=\"_parent\"><img src=\"https://colab.research.google.com/assets/colab-badge.svg\" alt=\"Open In Colab\"/></a>"
      ]
    },
    {
      "cell_type": "markdown",
      "source": [
        "LAB 1 EDA"
      ],
      "metadata": {
        "id": "IFh8OxGpcANM"
      }
    },
    {
      "cell_type": "markdown",
      "source": [
        "EJERCICIO CALCULADORA"
      ],
      "metadata": {
        "id": "iSyZwxGefIkS"
      }
    },
    {
      "cell_type": "code",
      "execution_count": 4,
      "metadata": {
        "colab": {
          "base_uri": "https://localhost:8080/"
        },
        "id": "ffIegkqXb_Ip",
        "outputId": "fc03b653-024d-4a63-80ea-552ddb605395"
      },
      "outputs": [
        {
          "output_type": "stream",
          "name": "stdout",
          "text": [
            "3\n"
          ]
        }
      ],
      "source": [
        "#EJERCICIO 1\n",
        "class Calculadora:\n",
        "  def sumar(self,num1,num2):\n",
        "    return num1+num2\n",
        "  def restar(self, num1, num2):\n",
        "    return num1-num2\n",
        "  def multiplicar(self,num1,num2):\n",
        "    return num1*num2\n",
        "  #cuando intentamos dividir por 0 error\n",
        "  def dividir(self,num1,num2):\n",
        "    try:\n",
        "      num1/num2\n",
        "    except:\n",
        "      print(\"Se ha producido un error\") #try except para que nuestro codigo de errores controlados\n",
        "#crear variable struct\n",
        "mi_calculadora= Calculadora()\n",
        "print(mi_calculadora.sumar(1,2))"
      ]
    },
    {
      "cell_type": "markdown",
      "source": [
        "FICHEROS"
      ],
      "metadata": {
        "id": "tEz-k7KifKwb"
      }
    },
    {
      "cell_type": "code",
      "source": [
        "def leer_fichero(path): #csv en misma carpeta que mi programa de python\n",
        "    try:\n",
        "        with open(path, 'r') as f:\n",
        "            print(f.read()) #con .read tengo todo del contenido de una vez\n",
        "            #sino quiero todo el contenido de una vez\n",
        "            for linea in f:\n",
        "                print(linea, end=\"\")\n",
        "    except:\n",
        "        print(\"no existe el fichero\")\n",
        "\n",
        "leer_fichero(\"alumnos.csv\")"
      ],
      "metadata": {
        "id": "KHZqB_tfgYwg"
      },
      "execution_count": null,
      "outputs": []
    },
    {
      "cell_type": "code",
      "source": [
        "class Alumno:\n",
        "    def __init__(self, nombre, apellido, edad):\n",
        "        self.nombre=nombre\n",
        "        self.apellido=apellido\n",
        "        self.edad=edad\n",
        "\n",
        "    def imprimir(self):\n",
        "        print(f\"El alumno {self.nombre} {self.apellido} tiene {self.edad} anyos.\")\n",
        "#para cuando el fichero esta separado por comas (columnas)\n",
        "def leer_fichero(path): #csv en misma carpeta que mi programa de python\n",
        "    try:\n",
        "        with open(path, 'r') as f:\n",
        "            for linea in f:\n",
        "                linea=linea.replace('\\n', '')\n",
        "                columnas=linea.split(',') #le damos un caracter y nos da una lista despues de dividir esa cadena entre el caracter en concreto\n",
        "#en la linea 4 hay una columna de mas. con split nos devuelve la lista de las columnas y con len se el tamaño de esa lista consigo el num de columnas\n",
        "#el csv valido tiene solo 3 columnas, entonces quiero que solo si tiene 3 columnas me imprima la linea, sino no\n",
        "                if len(columnas)==3:\n",
        "                    alumno= Alumno(columnas[0], columnas[1], columnas[2])\n",
        "                    alumno.imprimir()\n",
        "\n",
        "                    #print(linea)\n",
        "               # else:\n",
        "                   # print(\"esta pocha\") esto es para continuar con lo que no es split porque no vale si no son 3 columnas\n",
        "    except:\n",
        "        print(\"no existe el fichero\")\n",
        "\n",
        "leer_fichero(\"alumnos.csv\")"
      ],
      "metadata": {
        "id": "osxU9pG7k3Ah"
      },
      "execution_count": null,
      "outputs": []
    },
    {
      "cell_type": "markdown",
      "source": [
        "EJERCICIO FICHEROS (HACER FICHERO CSV E IMPRIMIR LA NOTA MEDIA DE CADA ALUMNO SABIENDO QUE SON 5 LABS)"
      ],
      "metadata": {
        "id": "Hy6BLKjmq4Ui"
      }
    },
    {
      "cell_type": "markdown",
      "source": [
        "en vez de leer un fichero, escribirlo, coger nota media de cada alumno obtenida y guardar en un nuevo fichero (ejemplo transparencias)"
      ],
      "metadata": {
        "id": "Ic6Rg47Ivtiv"
      }
    },
    {
      "cell_type": "code",
      "source": [],
      "metadata": {
        "id": "M33Lb8lNq_bo"
      },
      "execution_count": null,
      "outputs": []
    }
  ]
}